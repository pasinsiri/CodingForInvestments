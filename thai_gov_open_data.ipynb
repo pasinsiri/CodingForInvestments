{
 "cells": [
  {
   "cell_type": "code",
   "execution_count": 1,
   "metadata": {},
   "outputs": [],
   "source": [
    "import pandas as pd \n",
    "import numpy as np \n",
    "import datetime as dt \n",
    "import requests\n",
    "import warnings\n",
    "import json\n",
    "import re\n",
    "from bs4 import BeautifulSoup"
   ]
  },
  {
   "attachments": {},
   "cell_type": "markdown",
   "metadata": {},
   "source": [
    "<h1 style=\"color:turquoise\">Get Data from API</h1>"
   ]
  },
  {
   "cell_type": "code",
   "execution_count": 8,
   "metadata": {},
   "outputs": [
    {
     "data": {
      "text/plain": [
       "'\\nPotentially useful data\\nSME Export Value: https://data.go.th/dataset/export2556-2566\\nSME Import Value: https://data.go.th/dataset/2556-2566\\n'"
      ]
     },
     "execution_count": 8,
     "metadata": {},
     "output_type": "execute_result"
    }
   ],
   "source": [
    "\"\"\"\n",
    "Potentially useful data\n",
    "SME Export Value: https://data.go.th/dataset/export2556-2566\n",
    "SME Import Value: https://data.go.th/dataset/2556-2566\n",
    "\"\"\""
   ]
  },
  {
   "cell_type": "code",
   "execution_count": 8,
   "metadata": {},
   "outputs": [],
   "source": [
    "def crawl_url_raw(url):\n",
    "    # Send a GET request to the URL and store the response\n",
    "    response = requests.get(url)\n",
    "\n",
    "    # Use BeautifulSoup to parse the HTML content of the response\n",
    "    soup = BeautifulSoup(response.content, 'html.parser')\n",
    "\n",
    "    # Find all div elements with class \"row hoverDownload\" or \"row hoverDownload active\"\n",
    "    divs = soup.find_all('div', {'class': ['row hoverDownload', 'row hoverDownload active']})\n",
    "    return divs\n",
    "\n",
    "def crawl_url(url):\n",
    "    # Send a GET request to the URL and store the response\n",
    "    response = requests.get(url)\n",
    "\n",
    "    # Use BeautifulSoup to parse the HTML content of the response\n",
    "    soup = BeautifulSoup(response.content, 'html.parser')\n",
    "\n",
    "    # Find all div elements with class \"row hoverDownload\" or \"row hoverDownload active\"\n",
    "    divs = soup.find_all('div', {'class': ['row hoverDownload', 'row hoverDownload active']})\n",
    "\n",
    "    # Extract the link and title from each div\n",
    "    results = list()\n",
    "    # global div\n",
    "    for div in divs:\n",
    "        # check if the file is in .xlsx format. if so, get the url\n",
    "        div = [r for r in div]\n",
    "        if div[1].find('a').find('img')['alt'] == 'xlsx':\n",
    "            # name = div[3].find('a')['title'] or div[3].find('a').title\n",
    "            url = div[1].find('a')['href']\n",
    "            # print(f'Name = {name} and url = {url}')\n",
    "            # results[name] = url\n",
    "            results.append(url)\n",
    "\n",
    "    # Return the extracted data\n",
    "    return results\n"
   ]
  },
  {
   "cell_type": "code",
   "execution_count": 9,
   "metadata": {},
   "outputs": [],
   "source": [
    "res_list = crawl_url('https://data.go.th/dataset/export2556-2566')"
   ]
  },
  {
   "cell_type": "code",
   "execution_count": 4,
   "metadata": {},
   "outputs": [],
   "source": [
    "# res_list[:5]"
   ]
  },
  {
   "cell_type": "code",
   "execution_count": 5,
   "metadata": {},
   "outputs": [],
   "source": [
    "# for each data year, get only first element found (since it's the latest update)\n",
    "r = r'opendata-export[A-Za-z0-9-.]*'\n",
    "year_dict = {url: re.findall(r, url)[0][15:19] for url in res_list}\n",
    "\n",
    "latest_update = dict()\n",
    "for url, year in year_dict.items():\n",
    "    if year not in latest_update:\n",
    "        latest_update[year] = url\n",
    "\n",
    "latest_update"
   ]
  },
  {
   "cell_type": "code",
   "execution_count": 6,
   "metadata": {},
   "outputs": [],
   "source": [
    "export_dir = './data/thai_gov_open_data/sme_export'\n",
    "for year, url in latest_update.items():\n",
    "    if year in []:\n",
    "        continue\n",
    "    print(f'Year = {year} and URL = {url}')\n",
    "    try:\n",
    "        # * get file format\n",
    "        file_format = url.split('.')[-1]\n",
    "        response = requests.get(url)\n",
    "        if response.status_code == 200:\n",
    "            if file_format == 'xlsx':\n",
    "                df = pd.read_excel(response.content)\n",
    "                df.to_csv(f'{export_dir}/{str(year)}.csv', index=False)\n",
    "            elif file_format == 'csv':\n",
    "                df = pd.read_csv(response.content)\n",
    "                df.to_csv(f'{export_dir}/{str(year)}.csv', index=False)\n",
    "            else:\n",
    "                warnings.warn(f'File format {file_format} not supported', category=UserWarning)\n",
    "    except:\n",
    "        print(f'Failed to download from {year}')"
   ]
  },
  {
   "attachments": {},
   "cell_type": "markdown",
   "metadata": {},
   "source": [
    "<h1 style=\"color:turquoise\">Convert Data from CSV to Parquet</h1>"
   ]
  },
  {
   "cell_type": "code",
   "execution_count": 37,
   "metadata": {},
   "outputs": [
    {
     "name": "stdout",
     "output_type": "stream",
     "text": [
      "2564 is completed\n",
      "2565 is completed\n",
      "2566 is completed\n"
     ]
    }
   ],
   "source": [
    "base_path = './data/thai_gov_open_data/sme_export'\n",
    "for year in range(2564, 2567):\n",
    "    path = f'{base_path}/csv/{str(year)}.csv'\n",
    "    new_path = f'{base_path}/parquet/{str(year)}.parquet'\n",
    "    df = pd.read_csv(path, skiprows=0)\n",
    "    df.columns = [c.strip() for c in df.columns]\n",
    "    df['มูลค่า (บาท)'] = df['มูลค่า (บาท)'].astype(float)\n",
    "    df['มูลค่า (ดอลล่าร์)'] = df['มูลค่า (ดอลล่าร์)'].astype(float)\n",
    "    df.to_parquet(new_path, index=False)\n",
    "    print(f'{str(year)} is completed')"
   ]
  },
  {
   "cell_type": "code",
   "execution_count": 29,
   "metadata": {},
   "outputs": [],
   "source": [
    "# base_path = './data/thai_gov_open_data/sme_export'\n",
    "# path = f'{base_path}/2556.csv'\n",
    "# df = pd.read_csv(path, skiprows=1)\n",
    "# df.head(2)"
   ]
  },
  {
   "attachments": {},
   "cell_type": "markdown",
   "metadata": {},
   "source": [
    "<h1 style=\"color:turquoise\">Read Data</h1>"
   ]
  },
  {
   "cell_type": "code",
   "execution_count": 3,
   "metadata": {},
   "outputs": [],
   "source": [
    "# read data\n",
    "sme_export_raw = pd.read_parquet('./data/thai_gov_open_data/sme_export/parquet/')\n",
    "# sme_export_raw = pq.read_table('./data/thai_gov_open_data/sme_export/parquet/')\n",
    "sme_export_raw.columns = ['country', 'hs2dg', 'hs2dg_desc', 'hs4dg', 'hs4dg_desc', 'business_size', 'value_thb', 'value_usd', 'month', 'year']\n",
    "\n",
    "sme_export_raw['month'] = sme_export_raw.apply(lambda row: dt.date(row['year'], row['month'], 1), axis = 1)\n",
    "\n",
    "sme_export_raw.set_index('month', inplace=True)"
   ]
  },
  {
   "cell_type": "code",
   "execution_count": 4,
   "metadata": {},
   "outputs": [
    {
     "data": {
      "text/plain": [
       "array([2556, 2557, 2558, 2559, 2560, 2561, 2562, 2563, 2564, 2565, 2566])"
      ]
     },
     "execution_count": 4,
     "metadata": {},
     "output_type": "execute_result"
    }
   ],
   "source": [
    "sme_export_raw['year'].unique()"
   ]
  },
  {
   "cell_type": "code",
   "execution_count": 5,
   "metadata": {},
   "outputs": [],
   "source": [
    "# # * total export value by countries and months\n",
    "country = sme_export_raw[['country', 'value_thb']] \\\n",
    "            .groupby([sme_export_raw.index, 'country']).sum()\n",
    "\n",
    "# ? divide value_thb by a billion to make it easier to visualize\n",
    "country['value_thb'] = country['value_thb'].div(1e9)\n",
    "\n",
    "country['monthly_rank'] = country.groupby([country.index.get_level_values(0)])['value_thb'].rank(method='max', ascending=False).astype(int)\n",
    "\n",
    "# * top 5 each month\n",
    "country_top5 = country[country['monthly_rank'] <= 5]\n",
    "country_top5 = country_top5.sort_values(by=['month', 'monthly_rank'])"
   ]
  },
  {
   "cell_type": "code",
   "execution_count": 6,
   "metadata": {},
   "outputs": [
    {
     "data": {
      "text/html": [
       "<div>\n",
       "<style scoped>\n",
       "    .dataframe tbody tr th:only-of-type {\n",
       "        vertical-align: middle;\n",
       "    }\n",
       "\n",
       "    .dataframe tbody tr th {\n",
       "        vertical-align: top;\n",
       "    }\n",
       "\n",
       "    .dataframe thead th {\n",
       "        text-align: right;\n",
       "    }\n",
       "</style>\n",
       "<table border=\"1\" class=\"dataframe\">\n",
       "  <thead>\n",
       "    <tr style=\"text-align: right;\">\n",
       "      <th></th>\n",
       "      <th></th>\n",
       "      <th>value_thb</th>\n",
       "      <th>monthly_rank</th>\n",
       "    </tr>\n",
       "    <tr>\n",
       "      <th>month</th>\n",
       "      <th>country</th>\n",
       "      <th></th>\n",
       "      <th></th>\n",
       "    </tr>\n",
       "  </thead>\n",
       "  <tbody>\n",
       "    <tr>\n",
       "      <th rowspan=\"5\" valign=\"top\">2556-01-01</th>\n",
       "      <th>CHINA</th>\n",
       "      <td>2.195181</td>\n",
       "      <td>1</td>\n",
       "    </tr>\n",
       "    <tr>\n",
       "      <th>JAPAN</th>\n",
       "      <td>1.813440</td>\n",
       "      <td>2</td>\n",
       "    </tr>\n",
       "    <tr>\n",
       "      <th>UNITED STATES</th>\n",
       "      <td>1.812230</td>\n",
       "      <td>3</td>\n",
       "    </tr>\n",
       "    <tr>\n",
       "      <th>HONG KONG</th>\n",
       "      <td>1.041262</td>\n",
       "      <td>4</td>\n",
       "    </tr>\n",
       "    <tr>\n",
       "      <th>MALAYSIA</th>\n",
       "      <td>1.030493</td>\n",
       "      <td>5</td>\n",
       "    </tr>\n",
       "    <tr>\n",
       "      <th rowspan=\"5\" valign=\"top\">2556-02-01</th>\n",
       "      <th>CHINA</th>\n",
       "      <td>2.234773</td>\n",
       "      <td>1</td>\n",
       "    </tr>\n",
       "    <tr>\n",
       "      <th>JAPAN</th>\n",
       "      <td>1.805094</td>\n",
       "      <td>2</td>\n",
       "    </tr>\n",
       "    <tr>\n",
       "      <th>UNITED STATES</th>\n",
       "      <td>1.794485</td>\n",
       "      <td>3</td>\n",
       "    </tr>\n",
       "    <tr>\n",
       "      <th>INDONESIA</th>\n",
       "      <td>0.997919</td>\n",
       "      <td>4</td>\n",
       "    </tr>\n",
       "    <tr>\n",
       "      <th>HONG KONG</th>\n",
       "      <td>0.973395</td>\n",
       "      <td>5</td>\n",
       "    </tr>\n",
       "    <tr>\n",
       "      <th rowspan=\"5\" valign=\"top\">2556-03-01</th>\n",
       "      <th>CHINA</th>\n",
       "      <td>2.397601</td>\n",
       "      <td>1</td>\n",
       "    </tr>\n",
       "    <tr>\n",
       "      <th>JAPAN</th>\n",
       "      <td>1.988730</td>\n",
       "      <td>2</td>\n",
       "    </tr>\n",
       "    <tr>\n",
       "      <th>UNITED STATES</th>\n",
       "      <td>1.900329</td>\n",
       "      <td>3</td>\n",
       "    </tr>\n",
       "    <tr>\n",
       "      <th>HONG KONG</th>\n",
       "      <td>1.358262</td>\n",
       "      <td>4</td>\n",
       "    </tr>\n",
       "    <tr>\n",
       "      <th>MALAYSIA</th>\n",
       "      <td>1.114512</td>\n",
       "      <td>5</td>\n",
       "    </tr>\n",
       "    <tr>\n",
       "      <th rowspan=\"5\" valign=\"top\">2556-04-01</th>\n",
       "      <th>CHINA</th>\n",
       "      <td>2.041396</td>\n",
       "      <td>1</td>\n",
       "    </tr>\n",
       "    <tr>\n",
       "      <th>UNITED STATES</th>\n",
       "      <td>1.775266</td>\n",
       "      <td>2</td>\n",
       "    </tr>\n",
       "    <tr>\n",
       "      <th>JAPAN</th>\n",
       "      <td>1.736530</td>\n",
       "      <td>3</td>\n",
       "    </tr>\n",
       "    <tr>\n",
       "      <th>MALAYSIA</th>\n",
       "      <td>0.986922</td>\n",
       "      <td>4</td>\n",
       "    </tr>\n",
       "    <tr>\n",
       "      <th>INDONESIA</th>\n",
       "      <td>0.963330</td>\n",
       "      <td>5</td>\n",
       "    </tr>\n",
       "  </tbody>\n",
       "</table>\n",
       "</div>"
      ],
      "text/plain": [
       "                          value_thb  monthly_rank\n",
       "month      country                               \n",
       "2556-01-01 CHINA           2.195181             1\n",
       "           JAPAN           1.813440             2\n",
       "           UNITED STATES   1.812230             3\n",
       "           HONG KONG       1.041262             4\n",
       "           MALAYSIA        1.030493             5\n",
       "2556-02-01 CHINA           2.234773             1\n",
       "           JAPAN           1.805094             2\n",
       "           UNITED STATES   1.794485             3\n",
       "           INDONESIA       0.997919             4\n",
       "           HONG KONG       0.973395             5\n",
       "2556-03-01 CHINA           2.397601             1\n",
       "           JAPAN           1.988730             2\n",
       "           UNITED STATES   1.900329             3\n",
       "           HONG KONG       1.358262             4\n",
       "           MALAYSIA        1.114512             5\n",
       "2556-04-01 CHINA           2.041396             1\n",
       "           UNITED STATES   1.775266             2\n",
       "           JAPAN           1.736530             3\n",
       "           MALAYSIA        0.986922             4\n",
       "           INDONESIA       0.963330             5"
      ]
     },
     "execution_count": 6,
     "metadata": {},
     "output_type": "execute_result"
    }
   ],
   "source": [
    "country_top5.head(20)"
   ]
  },
  {
   "cell_type": "code",
   "execution_count": 7,
   "metadata": {},
   "outputs": [],
   "source": [
    "# sme_export_raw.index"
   ]
  },
  {
   "cell_type": "code",
   "execution_count": 3,
   "metadata": {},
   "outputs": [],
   "source": [
    "# tmp56 = pd.read_parquet('./data/thai_gov_open_data/sme_export/2556.parquet')\n",
    "# tmp56.head()"
   ]
  },
  {
   "cell_type": "code",
   "execution_count": null,
   "metadata": {},
   "outputs": [],
   "source": []
  }
 ],
 "metadata": {
  "kernelspec": {
   "display_name": "env",
   "language": "python",
   "name": "python3"
  },
  "language_info": {
   "codemirror_mode": {
    "name": "ipython",
    "version": 3
   },
   "file_extension": ".py",
   "mimetype": "text/x-python",
   "name": "python",
   "nbconvert_exporter": "python",
   "pygments_lexer": "ipython3",
   "version": "3.11.1"
  },
  "orig_nbformat": 4
 },
 "nbformat": 4,
 "nbformat_minor": 2
}
