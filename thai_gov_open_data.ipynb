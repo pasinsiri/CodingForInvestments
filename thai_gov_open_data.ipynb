{
 "cells": [
  {
   "cell_type": "code",
   "execution_count": 38,
   "metadata": {},
   "outputs": [],
   "source": [
    "import pandas as pd \n",
    "import numpy as np \n",
    "import datetime as dt \n",
    "import requests\n",
    "import warnings\n",
    "import json\n",
    "import re\n",
    "import matplotlib.pyplot as plt\n",
    "from bs4 import BeautifulSoup\n",
    "\n",
    "plt.style.use('ggplot')"
   ]
  },
  {
   "attachments": {},
   "cell_type": "markdown",
   "metadata": {},
   "source": [
    "<h1 style=\"color:turquoise\">Get Data from API</h1>"
   ]
  },
  {
   "cell_type": "code",
   "execution_count": 8,
   "metadata": {},
   "outputs": [
    {
     "data": {
      "text/plain": [
       "'\\nPotentially useful data\\nSME Export Value: https://data.go.th/dataset/export2556-2566\\nSME Import Value: https://data.go.th/dataset/2556-2566\\n'"
      ]
     },
     "execution_count": 8,
     "metadata": {},
     "output_type": "execute_result"
    }
   ],
   "source": [
    "\"\"\"\n",
    "Potentially useful data\n",
    "SME Export Value: https://data.go.th/dataset/export2556-2566\n",
    "SME Import Value: https://data.go.th/dataset/2556-2566\n",
    "\"\"\""
   ]
  },
  {
   "cell_type": "code",
   "execution_count": 8,
   "metadata": {},
   "outputs": [],
   "source": [
    "def crawl_url_raw(url):\n",
    "    # Send a GET request to the URL and store the response\n",
    "    response = requests.get(url)\n",
    "\n",
    "    # Use BeautifulSoup to parse the HTML content of the response\n",
    "    soup = BeautifulSoup(response.content, 'html.parser')\n",
    "\n",
    "    # Find all div elements with class \"row hoverDownload\" or \"row hoverDownload active\"\n",
    "    divs = soup.find_all('div', {'class': ['row hoverDownload', 'row hoverDownload active']})\n",
    "    return divs\n",
    "\n",
    "def crawl_url(url):\n",
    "    # Send a GET request to the URL and store the response\n",
    "    response = requests.get(url)\n",
    "\n",
    "    # Use BeautifulSoup to parse the HTML content of the response\n",
    "    soup = BeautifulSoup(response.content, 'html.parser')\n",
    "\n",
    "    # Find all div elements with class \"row hoverDownload\" or \"row hoverDownload active\"\n",
    "    divs = soup.find_all('div', {'class': ['row hoverDownload', 'row hoverDownload active']})\n",
    "\n",
    "    # Extract the link and title from each div\n",
    "    results = list()\n",
    "    # global div\n",
    "    for div in divs:\n",
    "        # check if the file is in .xlsx format. if so, get the url\n",
    "        div = [r for r in div]\n",
    "        if div[1].find('a').find('img')['alt'] == 'xlsx':\n",
    "            # name = div[3].find('a')['title'] or div[3].find('a').title\n",
    "            url = div[1].find('a')['href']\n",
    "            # print(f'Name = {name} and url = {url}')\n",
    "            # results[name] = url\n",
    "            results.append(url)\n",
    "\n",
    "    # Return the extracted data\n",
    "    return results\n"
   ]
  },
  {
   "cell_type": "code",
   "execution_count": 9,
   "metadata": {},
   "outputs": [],
   "source": [
    "res_list = crawl_url('https://data.go.th/dataset/export2556-2566')"
   ]
  },
  {
   "cell_type": "code",
   "execution_count": 4,
   "metadata": {},
   "outputs": [],
   "source": [
    "# res_list[:5]"
   ]
  },
  {
   "cell_type": "code",
   "execution_count": 5,
   "metadata": {},
   "outputs": [],
   "source": [
    "# for each data year, get only first element found (since it's the latest update)\n",
    "r = r'opendata-export[A-Za-z0-9-.]*'\n",
    "year_dict = {url: re.findall(r, url)[0][15:19] for url in res_list}\n",
    "\n",
    "latest_update = dict()\n",
    "for url, year in year_dict.items():\n",
    "    if year not in latest_update:\n",
    "        latest_update[year] = url\n",
    "\n",
    "latest_update"
   ]
  },
  {
   "cell_type": "code",
   "execution_count": 6,
   "metadata": {},
   "outputs": [],
   "source": [
    "export_dir = './data/thai_gov_open_data/sme_export'\n",
    "for year, url in latest_update.items():\n",
    "    if year in []:\n",
    "        continue\n",
    "    print(f'Year = {year} and URL = {url}')\n",
    "    try:\n",
    "        # * get file format\n",
    "        file_format = url.split('.')[-1]\n",
    "        response = requests.get(url)\n",
    "        if response.status_code == 200:\n",
    "            if file_format == 'xlsx':\n",
    "                df = pd.read_excel(response.content)\n",
    "                df.to_csv(f'{export_dir}/{str(year)}.csv', index=False)\n",
    "            elif file_format == 'csv':\n",
    "                df = pd.read_csv(response.content)\n",
    "                df.to_csv(f'{export_dir}/{str(year)}.csv', index=False)\n",
    "            else:\n",
    "                warnings.warn(f'File format {file_format} not supported', category=UserWarning)\n",
    "    except:\n",
    "        print(f'Failed to download from {year}')"
   ]
  },
  {
   "attachments": {},
   "cell_type": "markdown",
   "metadata": {},
   "source": [
    "<h1 style=\"color:turquoise\">Convert Data from CSV to Parquet</h1>"
   ]
  },
  {
   "cell_type": "code",
   "execution_count": 37,
   "metadata": {},
   "outputs": [
    {
     "name": "stdout",
     "output_type": "stream",
     "text": [
      "2564 is completed\n",
      "2565 is completed\n",
      "2566 is completed\n"
     ]
    }
   ],
   "source": [
    "base_path = './data/thai_gov_open_data/sme_export'\n",
    "for year in range(2564, 2567):\n",
    "    path = f'{base_path}/csv/{str(year)}.csv'\n",
    "    new_path = f'{base_path}/parquet/{str(year)}.parquet'\n",
    "    df = pd.read_csv(path, skiprows=0)\n",
    "    df.columns = [c.strip() for c in df.columns]\n",
    "    df['มูลค่า (บาท)'] = df['มูลค่า (บาท)'].astype(float)\n",
    "    df['มูลค่า (ดอลล่าร์)'] = df['มูลค่า (ดอลล่าร์)'].astype(float)\n",
    "    df.to_parquet(new_path, index=False)\n",
    "    print(f'{str(year)} is completed')"
   ]
  },
  {
   "cell_type": "code",
   "execution_count": 29,
   "metadata": {},
   "outputs": [],
   "source": [
    "# base_path = './data/thai_gov_open_data/sme_export'\n",
    "# path = f'{base_path}/2556.csv'\n",
    "# df = pd.read_csv(path, skiprows=1)\n",
    "# df.head(2)"
   ]
  },
  {
   "attachments": {},
   "cell_type": "markdown",
   "metadata": {},
   "source": [
    "<h1 style=\"color:turquoise\">Read Data</h1>"
   ]
  },
  {
   "cell_type": "code",
   "execution_count": 13,
   "metadata": {},
   "outputs": [],
   "source": [
    "# read data\n",
    "sme_export_raw = pd.read_parquet('./data/thai_gov_open_data/sme_export/parquet/')\n",
    "# sme_export_raw = pq.read_table('./data/thai_gov_open_data/sme_export/parquet/')\n",
    "sme_export_raw.columns = ['country', 'hs2dg', 'hs2dg_desc', 'hs4dg', 'hs4dg_desc', 'value_thb', 'value_usd', 'business_size', 'month', 'year']\n",
    "\n",
    "sme_export_raw['month'] = sme_export_raw.apply(lambda row: dt.date(row['year'], row['month'], 1), axis = 1)\n",
    "\n",
    "sme_export_raw.set_index('month', inplace=True)"
   ]
  },
  {
   "cell_type": "code",
   "execution_count": 14,
   "metadata": {},
   "outputs": [
    {
     "data": {
      "text/html": [
       "<div>\n",
       "<style scoped>\n",
       "    .dataframe tbody tr th:only-of-type {\n",
       "        vertical-align: middle;\n",
       "    }\n",
       "\n",
       "    .dataframe tbody tr th {\n",
       "        vertical-align: top;\n",
       "    }\n",
       "\n",
       "    .dataframe thead th {\n",
       "        text-align: right;\n",
       "    }\n",
       "</style>\n",
       "<table border=\"1\" class=\"dataframe\">\n",
       "  <thead>\n",
       "    <tr style=\"text-align: right;\">\n",
       "      <th></th>\n",
       "      <th>country</th>\n",
       "      <th>hs2dg</th>\n",
       "      <th>hs2dg_desc</th>\n",
       "      <th>hs4dg</th>\n",
       "      <th>hs4dg_desc</th>\n",
       "      <th>value_thb</th>\n",
       "      <th>value_usd</th>\n",
       "      <th>business_size</th>\n",
       "      <th>year</th>\n",
       "    </tr>\n",
       "    <tr>\n",
       "      <th>month</th>\n",
       "      <th></th>\n",
       "      <th></th>\n",
       "      <th></th>\n",
       "      <th></th>\n",
       "      <th></th>\n",
       "      <th></th>\n",
       "      <th></th>\n",
       "      <th></th>\n",
       "      <th></th>\n",
       "    </tr>\n",
       "  </thead>\n",
       "  <tbody>\n",
       "    <tr>\n",
       "      <th>2556-06-01</th>\n",
       "      <td>ANDORRA</td>\n",
       "      <td>33</td>\n",
       "      <td>เครื่องหอม เครื่องสำอาง</td>\n",
       "      <td>3307</td>\n",
       "      <td>สิ่งปรุงแต่งที่ใช้ก่อน ระหว่าง หรือหลังการโกนห...</td>\n",
       "      <td>29245.0</td>\n",
       "      <td>990.0</td>\n",
       "      <td>S</td>\n",
       "      <td>2556</td>\n",
       "    </tr>\n",
       "    <tr>\n",
       "      <th>2556-11-01</th>\n",
       "      <td>ANDORRA</td>\n",
       "      <td>42</td>\n",
       "      <td>เครื่องหนัง</td>\n",
       "      <td>4202</td>\n",
       "      <td>หีบเดินทางขนาดใหญ่ กระเป๋าใส่เสื้อผ้า กระเป๋าใ...</td>\n",
       "      <td>123.0</td>\n",
       "      <td>4.0</td>\n",
       "      <td>L</td>\n",
       "      <td>2556</td>\n",
       "    </tr>\n",
       "    <tr>\n",
       "      <th>2556-11-01</th>\n",
       "      <td>ANDORRA</td>\n",
       "      <td>44</td>\n",
       "      <td>ไม้และของทำด้วยไม้ ถ่านไม้</td>\n",
       "      <td>4420</td>\n",
       "      <td>ไม้ที่ฝังหรือประดับด้วยมุก ด้วยงาช้างหรือวัตถุ...</td>\n",
       "      <td>30.0</td>\n",
       "      <td>1.0</td>\n",
       "      <td>L</td>\n",
       "      <td>2556</td>\n",
       "    </tr>\n",
       "  </tbody>\n",
       "</table>\n",
       "</div>"
      ],
      "text/plain": [
       "            country  hs2dg                  hs2dg_desc  hs4dg  \\\n",
       "month                                                           \n",
       "2556-06-01  ANDORRA     33     เครื่องหอม เครื่องสำอาง   3307   \n",
       "2556-11-01  ANDORRA     42                 เครื่องหนัง   4202   \n",
       "2556-11-01  ANDORRA     44  ไม้และของทำด้วยไม้ ถ่านไม้   4420   \n",
       "\n",
       "                                                   hs4dg_desc  value_thb  \\\n",
       "month                                                                      \n",
       "2556-06-01  สิ่งปรุงแต่งที่ใช้ก่อน ระหว่าง หรือหลังการโกนห...    29245.0   \n",
       "2556-11-01  หีบเดินทางขนาดใหญ่ กระเป๋าใส่เสื้อผ้า กระเป๋าใ...      123.0   \n",
       "2556-11-01  ไม้ที่ฝังหรือประดับด้วยมุก ด้วยงาช้างหรือวัตถุ...       30.0   \n",
       "\n",
       "            value_usd business_size  year  \n",
       "month                                      \n",
       "2556-06-01      990.0             S  2556  \n",
       "2556-11-01        4.0             L  2556  \n",
       "2556-11-01        1.0             L  2556  "
      ]
     },
     "execution_count": 14,
     "metadata": {},
     "output_type": "execute_result"
    }
   ],
   "source": [
    "sme_export_raw.head(3)"
   ]
  },
  {
   "cell_type": "code",
   "execution_count": 15,
   "metadata": {},
   "outputs": [],
   "source": [
    "# # * total export value by countries and months\n",
    "country = sme_export_raw[['country', 'value_thb']] \\\n",
    "            .groupby([sme_export_raw.index, 'country']).sum()\n",
    "\n",
    "# ? divide value_thb by a billion to make it easier to visualize\n",
    "country['value_thb'] = country['value_thb'].div(1e9)\n",
    "\n",
    "country['monthly_rank'] = country.groupby([country.index.get_level_values(0)])['value_thb'].rank(method='max', ascending=False).astype(int)\n",
    "\n",
    "# * top 5 each month\n",
    "country_top5 = country[country['monthly_rank'] <= 5]\n",
    "country_top5 = country_top5.sort_values(by=['month', 'monthly_rank'])"
   ]
  },
  {
   "cell_type": "code",
   "execution_count": 16,
   "metadata": {},
   "outputs": [
    {
     "data": {
      "text/html": [
       "<div>\n",
       "<style scoped>\n",
       "    .dataframe tbody tr th:only-of-type {\n",
       "        vertical-align: middle;\n",
       "    }\n",
       "\n",
       "    .dataframe tbody tr th {\n",
       "        vertical-align: top;\n",
       "    }\n",
       "\n",
       "    .dataframe thead th {\n",
       "        text-align: right;\n",
       "    }\n",
       "</style>\n",
       "<table border=\"1\" class=\"dataframe\">\n",
       "  <thead>\n",
       "    <tr style=\"text-align: right;\">\n",
       "      <th></th>\n",
       "      <th></th>\n",
       "      <th>value_thb</th>\n",
       "      <th>monthly_rank</th>\n",
       "    </tr>\n",
       "    <tr>\n",
       "      <th>month</th>\n",
       "      <th>country</th>\n",
       "      <th></th>\n",
       "      <th></th>\n",
       "    </tr>\n",
       "  </thead>\n",
       "  <tbody>\n",
       "    <tr>\n",
       "      <th rowspan=\"5\" valign=\"top\">2556-01-01</th>\n",
       "      <th>CHINA</th>\n",
       "      <td>66.680372</td>\n",
       "      <td>1</td>\n",
       "    </tr>\n",
       "    <tr>\n",
       "      <th>JAPAN</th>\n",
       "      <td>55.084690</td>\n",
       "      <td>2</td>\n",
       "    </tr>\n",
       "    <tr>\n",
       "      <th>UNITED STATES</th>\n",
       "      <td>55.047930</td>\n",
       "      <td>3</td>\n",
       "    </tr>\n",
       "    <tr>\n",
       "      <th>HONG KONG</th>\n",
       "      <td>31.629180</td>\n",
       "      <td>4</td>\n",
       "    </tr>\n",
       "    <tr>\n",
       "      <th>MALAYSIA</th>\n",
       "      <td>31.302053</td>\n",
       "      <td>5</td>\n",
       "    </tr>\n",
       "    <tr>\n",
       "      <th rowspan=\"5\" valign=\"top\">2556-02-01</th>\n",
       "      <th>CHINA</th>\n",
       "      <td>66.007389</td>\n",
       "      <td>1</td>\n",
       "    </tr>\n",
       "    <tr>\n",
       "      <th>JAPAN</th>\n",
       "      <td>53.316152</td>\n",
       "      <td>2</td>\n",
       "    </tr>\n",
       "    <tr>\n",
       "      <th>UNITED STATES</th>\n",
       "      <td>53.002822</td>\n",
       "      <td>3</td>\n",
       "    </tr>\n",
       "    <tr>\n",
       "      <th>INDONESIA</th>\n",
       "      <td>29.475045</td>\n",
       "      <td>4</td>\n",
       "    </tr>\n",
       "    <tr>\n",
       "      <th>HONG KONG</th>\n",
       "      <td>28.750672</td>\n",
       "      <td>5</td>\n",
       "    </tr>\n",
       "    <tr>\n",
       "      <th rowspan=\"5\" valign=\"top\">2556-03-01</th>\n",
       "      <th>CHINA</th>\n",
       "      <td>71.035400</td>\n",
       "      <td>1</td>\n",
       "    </tr>\n",
       "    <tr>\n",
       "      <th>JAPAN</th>\n",
       "      <td>58.921514</td>\n",
       "      <td>2</td>\n",
       "    </tr>\n",
       "    <tr>\n",
       "      <th>UNITED STATES</th>\n",
       "      <td>56.302375</td>\n",
       "      <td>3</td>\n",
       "    </tr>\n",
       "    <tr>\n",
       "      <th>HONG KONG</th>\n",
       "      <td>40.242183</td>\n",
       "      <td>4</td>\n",
       "    </tr>\n",
       "    <tr>\n",
       "      <th>MALAYSIA</th>\n",
       "      <td>33.020442</td>\n",
       "      <td>5</td>\n",
       "    </tr>\n",
       "    <tr>\n",
       "      <th rowspan=\"5\" valign=\"top\">2556-04-01</th>\n",
       "      <th>CHINA</th>\n",
       "      <td>59.357664</td>\n",
       "      <td>1</td>\n",
       "    </tr>\n",
       "    <tr>\n",
       "      <th>UNITED STATES</th>\n",
       "      <td>51.619420</td>\n",
       "      <td>2</td>\n",
       "    </tr>\n",
       "    <tr>\n",
       "      <th>JAPAN</th>\n",
       "      <td>50.493094</td>\n",
       "      <td>3</td>\n",
       "    </tr>\n",
       "    <tr>\n",
       "      <th>MALAYSIA</th>\n",
       "      <td>28.696733</td>\n",
       "      <td>4</td>\n",
       "    </tr>\n",
       "    <tr>\n",
       "      <th>INDONESIA</th>\n",
       "      <td>28.010737</td>\n",
       "      <td>5</td>\n",
       "    </tr>\n",
       "  </tbody>\n",
       "</table>\n",
       "</div>"
      ],
      "text/plain": [
       "                          value_thb  monthly_rank\n",
       "month      country                               \n",
       "2556-01-01 CHINA          66.680372             1\n",
       "           JAPAN          55.084690             2\n",
       "           UNITED STATES  55.047930             3\n",
       "           HONG KONG      31.629180             4\n",
       "           MALAYSIA       31.302053             5\n",
       "2556-02-01 CHINA          66.007389             1\n",
       "           JAPAN          53.316152             2\n",
       "           UNITED STATES  53.002822             3\n",
       "           INDONESIA      29.475045             4\n",
       "           HONG KONG      28.750672             5\n",
       "2556-03-01 CHINA          71.035400             1\n",
       "           JAPAN          58.921514             2\n",
       "           UNITED STATES  56.302375             3\n",
       "           HONG KONG      40.242183             4\n",
       "           MALAYSIA       33.020442             5\n",
       "2556-04-01 CHINA          59.357664             1\n",
       "           UNITED STATES  51.619420             2\n",
       "           JAPAN          50.493094             3\n",
       "           MALAYSIA       28.696733             4\n",
       "           INDONESIA      28.010737             5"
      ]
     },
     "execution_count": 16,
     "metadata": {},
     "output_type": "execute_result"
    }
   ],
   "source": [
    "country_top5.head(20)"
   ]
  },
  {
   "cell_type": "code",
   "execution_count": 7,
   "metadata": {},
   "outputs": [],
   "source": [
    "# sme_export_raw.index"
   ]
  },
  {
   "cell_type": "code",
   "execution_count": 3,
   "metadata": {},
   "outputs": [],
   "source": [
    "# tmp56 = pd.read_parquet('./data/thai_gov_open_data/sme_export/2556.parquet')\n",
    "# tmp56.head()"
   ]
  },
  {
   "attachments": {},
   "cell_type": "markdown",
   "metadata": {},
   "source": [
    "<h3>Top Products Exported</h3>"
   ]
  },
  {
   "cell_type": "code",
   "execution_count": 40,
   "metadata": {},
   "outputs": [
    {
     "data": {
      "text/html": [
       "<div>\n",
       "<style scoped>\n",
       "    .dataframe tbody tr th:only-of-type {\n",
       "        vertical-align: middle;\n",
       "    }\n",
       "\n",
       "    .dataframe tbody tr th {\n",
       "        vertical-align: top;\n",
       "    }\n",
       "\n",
       "    .dataframe thead th {\n",
       "        text-align: right;\n",
       "    }\n",
       "</style>\n",
       "<table border=\"1\" class=\"dataframe\">\n",
       "  <thead>\n",
       "    <tr style=\"text-align: right;\">\n",
       "      <th></th>\n",
       "      <th>country</th>\n",
       "      <th>hs2dg</th>\n",
       "      <th>hs2dg_desc</th>\n",
       "      <th>hs4dg</th>\n",
       "      <th>hs4dg_desc</th>\n",
       "      <th>value_thb</th>\n",
       "      <th>value_usd</th>\n",
       "      <th>business_size</th>\n",
       "      <th>year</th>\n",
       "    </tr>\n",
       "    <tr>\n",
       "      <th>month</th>\n",
       "      <th></th>\n",
       "      <th></th>\n",
       "      <th></th>\n",
       "      <th></th>\n",
       "      <th></th>\n",
       "      <th></th>\n",
       "      <th></th>\n",
       "      <th></th>\n",
       "      <th></th>\n",
       "    </tr>\n",
       "  </thead>\n",
       "  <tbody>\n",
       "    <tr>\n",
       "      <th>2566-01-01</th>\n",
       "      <td>None</td>\n",
       "      <td>27</td>\n",
       "      <td>เชื้อเพลิงที่ได้จากแร่ น้ำมันแร่ และผลิตภัณฑ์ท...</td>\n",
       "      <td>2710</td>\n",
       "      <td>น้ำมันปิโตรเลียมและน้ำมันที่ได้จากแร่บิทูมินัส...</td>\n",
       "      <td>1.056121e+09</td>\n",
       "      <td>30545804.0</td>\n",
       "      <td>None</td>\n",
       "      <td>2566</td>\n",
       "    </tr>\n",
       "    <tr>\n",
       "      <th>2566-02-01</th>\n",
       "      <td>None</td>\n",
       "      <td>27</td>\n",
       "      <td>เชื้อเพลิงที่ได้จากแร่ น้ำมันแร่ และผลิตภัณฑ์ท...</td>\n",
       "      <td>2710</td>\n",
       "      <td>น้ำมันปิโตรเลียมและน้ำมันที่ได้จากแร่บิทูมินัส...</td>\n",
       "      <td>6.668456e+08</td>\n",
       "      <td>20436956.0</td>\n",
       "      <td>None</td>\n",
       "      <td>2566</td>\n",
       "    </tr>\n",
       "  </tbody>\n",
       "</table>\n",
       "</div>"
      ],
      "text/plain": [
       "           country  hs2dg                                         hs2dg_desc  \\\n",
       "month                                                                          \n",
       "2566-01-01    None     27  เชื้อเพลิงที่ได้จากแร่ น้ำมันแร่ และผลิตภัณฑ์ท...   \n",
       "2566-02-01    None     27  เชื้อเพลิงที่ได้จากแร่ น้ำมันแร่ และผลิตภัณฑ์ท...   \n",
       "\n",
       "            hs4dg                                         hs4dg_desc  \\\n",
       "month                                                                  \n",
       "2566-01-01   2710  น้ำมันปิโตรเลียมและน้ำมันที่ได้จากแร่บิทูมินัส...   \n",
       "2566-02-01   2710  น้ำมันปิโตรเลียมและน้ำมันที่ได้จากแร่บิทูมินัส...   \n",
       "\n",
       "               value_thb   value_usd business_size  year  \n",
       "month                                                     \n",
       "2566-01-01  1.056121e+09  30545804.0          None  2566  \n",
       "2566-02-01  6.668456e+08  20436956.0          None  2566  "
      ]
     },
     "execution_count": 40,
     "metadata": {},
     "output_type": "execute_result"
    }
   ],
   "source": [
    "sme_export_raw.tail(2)"
   ]
  },
  {
   "cell_type": "code",
   "execution_count": 26,
   "metadata": {},
   "outputs": [
    {
     "name": "stderr",
     "output_type": "stream",
     "text": [
      "/var/folders/cg/6xrmgcbj71nfsp9hqcxq2fzh0000gn/T/ipykernel_2595/2333698224.py:1: FutureWarning: The default value of numeric_only in DataFrameGroupBy.sum is deprecated. In a future version, numeric_only will default to False. Either specify numeric_only or select only columns which should be valid for the function.\n",
      "  top_export = sme_export_raw.groupby(['hs2dg']).sum()['value_thb'].reset_index() \\\n"
     ]
    },
    {
     "data": {
      "text/plain": [
       "16"
      ]
     },
     "execution_count": 26,
     "metadata": {},
     "output_type": "execute_result"
    }
   ],
   "source": [
    "top_export = sme_export_raw.groupby(['hs2dg']).sum()['value_thb'].reset_index() \\\n",
    "                .sort_values(by='value_thb', ascending=False)\n",
    "\n",
    "top_export['value_thb_portion'] = top_export['value_thb'].div(top_export['value_thb'].sum()).mul(100)\n",
    "top_export['cum_portion'] = top_export['value_thb_portion'].cumsum()\n",
    "\n",
    "# top_export['hs2dg'].nunique() # 208 categories\n",
    "\n",
    "top_export_pct80 = top_export[top_export['cum_portion'] < 80]\n",
    "top_export_pct80['hs2dg'].nunique() # 33"
   ]
  },
  {
   "cell_type": "code",
   "execution_count": 30,
   "metadata": {},
   "outputs": [
    {
     "name": "stderr",
     "output_type": "stream",
     "text": [
      "/var/folders/cg/6xrmgcbj71nfsp9hqcxq2fzh0000gn/T/ipykernel_2595/4102497364.py:6: FutureWarning: Dropping invalid columns in DataFrameGroupBy.agg is deprecated. In a future version, a TypeError will be raised. Before calling .agg, select only columns which should be valid for the function.\n",
      "  sme_export_by_cat = sme_export.groupby([sme_export.index, 'hs2dg_desc']).agg(lambda x: sum(x) / 1e9)[['value_thb', 'value_usd']]\n"
     ]
    },
    {
     "data": {
      "text/html": [
       "<div>\n",
       "<style scoped>\n",
       "    .dataframe tbody tr th:only-of-type {\n",
       "        vertical-align: middle;\n",
       "    }\n",
       "\n",
       "    .dataframe tbody tr th {\n",
       "        vertical-align: top;\n",
       "    }\n",
       "\n",
       "    .dataframe thead th {\n",
       "        text-align: right;\n",
       "    }\n",
       "</style>\n",
       "<table border=\"1\" class=\"dataframe\">\n",
       "  <thead>\n",
       "    <tr style=\"text-align: right;\">\n",
       "      <th></th>\n",
       "      <th></th>\n",
       "      <th>value_thb</th>\n",
       "      <th>value_usd</th>\n",
       "    </tr>\n",
       "    <tr>\n",
       "      <th>month</th>\n",
       "      <th>hs2dg_desc</th>\n",
       "      <th></th>\n",
       "      <th></th>\n",
       "    </tr>\n",
       "  </thead>\n",
       "  <tbody>\n",
       "    <tr>\n",
       "      <th rowspan=\"5\" valign=\"top\">2556-01-01</th>\n",
       "      <th>ของทำด้วยเหล็กหรือเหล็กกล้า</th>\n",
       "      <td>10.260229</td>\n",
       "      <td>0.337776</td>\n",
       "    </tr>\n",
       "    <tr>\n",
       "      <th>ของปรุงแต่งจากเนื้อสัตว์ ปลา สัตว์น้ำ</th>\n",
       "      <td>18.226935</td>\n",
       "      <td>0.600048</td>\n",
       "    </tr>\n",
       "    <tr>\n",
       "      <th>ทองแดงและของทำด้วยทองแดง</th>\n",
       "      <td>3.532036</td>\n",
       "      <td>0.116278</td>\n",
       "    </tr>\n",
       "    <tr>\n",
       "      <th>ธัญพืช</th>\n",
       "      <td>12.690153</td>\n",
       "      <td>0.417772</td>\n",
       "    </tr>\n",
       "    <tr>\n",
       "      <th>น้ำตาลและขนมทำจากน้ำตาล</th>\n",
       "      <td>7.127014</td>\n",
       "      <td>0.234628</td>\n",
       "    </tr>\n",
       "  </tbody>\n",
       "</table>\n",
       "</div>"
      ],
      "text/plain": [
       "                                                  value_thb  value_usd\n",
       "month      hs2dg_desc                                                 \n",
       "2556-01-01 ของทำด้วยเหล็กหรือเหล็กกล้า            10.260229   0.337776\n",
       "           ของปรุงแต่งจากเนื้อสัตว์ ปลา สัตว์น้ำ  18.226935   0.600048\n",
       "           ทองแดงและของทำด้วยทองแดง                3.532036   0.116278\n",
       "           ธัญพืช                                 12.690153   0.417772\n",
       "           น้ำตาลและขนมทำจากน้ำตาล                 7.127014   0.234628"
      ]
     },
     "execution_count": 30,
     "metadata": {},
     "output_type": "execute_result"
    }
   ],
   "source": [
    "# # TODO: filter categories with high export value (use cut-off point at 80th-percentile from above)\n",
    "sme_export = sme_export_raw[sme_export_raw['hs2dg'].isin(top_export_pct80['hs2dg'].tolist())]\n",
    "# sme_export.head(10)\n",
    "\n",
    "# * create a new dataframe of category (hs2dg)\n",
    "sme_export_by_cat = sme_export.groupby([sme_export.index, 'hs2dg_desc']).agg(lambda x: sum(x) / 1e9)[['value_thb', 'value_usd']]\n",
    "sme_export_by_cat.head()"
   ]
  },
  {
   "cell_type": "code",
   "execution_count": 53,
   "metadata": {},
   "outputs": [
    {
     "data": {
      "text/plain": [
       "<AxesSubplot: xlabel='month'>"
      ]
     },
     "execution_count": 53,
     "metadata": {},
     "output_type": "execute_result"
    },
    {
     "data": {
      "image/png": "[encoded data removed]",
      "text/plain": [
       "<Figure size 640x480 with 1 Axes>"
      ]
     },
     "metadata": {},
     "output_type": "display_data"
    }
   ],
   "source": [
    "# # TODO: plot sample graph\n",
    "sme_export_by_cat[sme_export_by_cat.index.get_level_values(1) == 'เครื่องจักรไฟฟ้า เครื่องอุปกรณ์ไฟฟ้า และส่วนประกอบของเครื่องดังกล่าว เครื่องบันทึกและเครื่องถถอดภาพและเสียงทางโทรทัศน์ รวมทั้งส่วนประกอบและอุปกรณ์ของเครื่องดังกล่าว'].sort_index().reset_index(level=1)['value_thb'].plot()"
   ]
  },
  {
   "cell_type": "code",
   "execution_count": 52,
   "metadata": {},
   "outputs": [],
   "source": [
    "# sme_export_by_cat.tail(20)"
   ]
  },
  {
   "cell_type": "code",
   "execution_count": 44,
   "metadata": {},
   "outputs": [
    {
     "data": {
      "text/plain": [
       "Index([2556-06-01, 2556-11-01, 2556-11-01, 2556-11-01, 2556-11-01, 2556-12-01,\n",
       "       2556-05-01, 2556-12-01, 2556-12-01, 2556-05-01,\n",
       "       ...\n",
       "       2566-01-01, 2566-01-01, 2566-02-01, 2566-03-01, 2566-03-01, 2566-01-01,\n",
       "       2566-03-01, 2566-03-01, 2566-01-01, 2566-02-01],\n",
       "      dtype='object', name='month', length=7385949)"
      ]
     },
     "execution_count": 44,
     "metadata": {},
     "output_type": "execute_result"
    }
   ],
   "source": []
  },
  {
   "cell_type": "code",
   "execution_count": null,
   "metadata": {},
   "outputs": [],
   "source": []
  }
 ],
 "metadata": {
  "kernelspec": {
   "display_name": "env",
   "language": "python",
   "name": "python3"
  },
  "language_info": {
   "codemirror_mode": {
    "name": "ipython",
    "version": 3
   },
   "file_extension": ".py",
   "mimetype": "text/x-python",
   "name": "python",
   "nbconvert_exporter": "python",
   "pygments_lexer": "ipython3",
   "version": "3.11.1"
  },
  "orig_nbformat": 4
 },
 "nbformat": 4,
 "nbformat_minor": 2
}
