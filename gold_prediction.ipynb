{
 "cells": [
  {
   "cell_type": "code",
   "execution_count": 2,
   "metadata": {},
   "outputs": [],
   "source": [
    "import pandas as pd \n",
    "import numpy as np \n",
    "import pandas as pd\n",
    "import requests\n",
    "import json\n",
    "import datetime as dt\n",
    "import yfinance as yf\n",
    "import pandas_datareader as pdr\n",
    "import matplotlib.pyplot as plt\n",
    "\n",
    "from functions.datareader import YFinanceReader"
   ]
  },
  {
   "cell_type": "code",
   "execution_count": 3,
   "metadata": {},
   "outputs": [
    {
     "name": "stdout",
     "output_type": "stream",
     "text": [
      "[*********************100%***********************]  1 of 1 completed\n"
     ]
    },
    {
     "data": {
      "text/html": [
       "<div>\n",
       "<style scoped>\n",
       "    .dataframe tbody tr th:only-of-type {\n",
       "        vertical-align: middle;\n",
       "    }\n",
       "\n",
       "    .dataframe tbody tr th {\n",
       "        vertical-align: top;\n",
       "    }\n",
       "\n",
       "    .dataframe thead th {\n",
       "        text-align: right;\n",
       "    }\n",
       "</style>\n",
       "<table border=\"1\" class=\"dataframe\">\n",
       "  <thead>\n",
       "    <tr style=\"text-align: right;\">\n",
       "      <th></th>\n",
       "      <th>Open</th>\n",
       "      <th>High</th>\n",
       "      <th>Low</th>\n",
       "      <th>Close</th>\n",
       "      <th>Volume</th>\n",
       "    </tr>\n",
       "    <tr>\n",
       "      <th>Date</th>\n",
       "      <th></th>\n",
       "      <th></th>\n",
       "      <th></th>\n",
       "      <th></th>\n",
       "      <th></th>\n",
       "    </tr>\n",
       "  </thead>\n",
       "  <tbody>\n",
       "    <tr>\n",
       "      <th>2023-08-22</th>\n",
       "      <td>1894.599976</td>\n",
       "      <td>1896.800049</td>\n",
       "      <td>1892.800049</td>\n",
       "      <td>1896.400024</td>\n",
       "      <td>46</td>\n",
       "    </tr>\n",
       "    <tr>\n",
       "      <th>2023-08-23</th>\n",
       "      <td>1909.599976</td>\n",
       "      <td>1918.500000</td>\n",
       "      <td>1909.599976</td>\n",
       "      <td>1918.500000</td>\n",
       "      <td>547</td>\n",
       "    </tr>\n",
       "    <tr>\n",
       "      <th>2023-08-24</th>\n",
       "      <td>1920.000000</td>\n",
       "      <td>1920.800049</td>\n",
       "      <td>1918.199951</td>\n",
       "      <td>1918.199951</td>\n",
       "      <td>337</td>\n",
       "    </tr>\n",
       "    <tr>\n",
       "      <th>2023-08-25</th>\n",
       "      <td>1919.800049</td>\n",
       "      <td>1919.800049</td>\n",
       "      <td>1911.099976</td>\n",
       "      <td>1911.099976</td>\n",
       "      <td>195</td>\n",
       "    </tr>\n",
       "    <tr>\n",
       "      <th>2023-08-28</th>\n",
       "      <td>1915.500000</td>\n",
       "      <td>1921.500000</td>\n",
       "      <td>1915.500000</td>\n",
       "      <td>1917.900024</td>\n",
       "      <td>99</td>\n",
       "    </tr>\n",
       "  </tbody>\n",
       "</table>\n",
       "</div>"
      ],
      "text/plain": [
       "                   Open         High          Low        Close  Volume\n",
       "Date                                                                  \n",
       "2023-08-22  1894.599976  1896.800049  1892.800049  1896.400024      46\n",
       "2023-08-23  1909.599976  1918.500000  1909.599976  1918.500000     547\n",
       "2023-08-24  1920.000000  1920.800049  1918.199951  1918.199951     337\n",
       "2023-08-25  1919.800049  1919.800049  1911.099976  1911.099976     195\n",
       "2023-08-28  1915.500000  1921.500000  1915.500000  1917.900024      99"
      ]
     },
     "execution_count": 3,
     "metadata": {},
     "output_type": "execute_result"
    }
   ],
   "source": [
    "# ticker_list = [v + market_suffix for s in stock_sectors.values() for v in s]\n",
    "# ticker_list = ['GC=F']\n",
    "# yfinance_meta = yf.Tickers(ticker_list)\n",
    "# is_loaded = False\n",
    "\n",
    "gold_price_raw = yf.download('GC=F', dt.date(2000, 1, 1), dt.date(2023, 8, 29), auto_adjust=True)\n",
    "gold_price_raw.tail()"
   ]
  },
  {
   "cell_type": "code",
   "execution_count": 4,
   "metadata": {},
   "outputs": [],
   "source": [
    "# pull data from FRED\n",
    "fred_keys = {\n",
    "    \"DFF\": \"Federal Funds Effective Rate\",\n",
    "    \"IRLTLT01USM156N\": \"US10Y Bond Yield\",\n",
    "    \"USALOLITONOSTSAM\": \"US Leading Indicators OECD\",\n",
    "    \"USACPIALLMINMEI\": \"CPI\",\n",
    "    \"USACPICORMINMEI\": \"Core CPI\",\n",
    "    \"CSCICP03USM665S\": \"Consumer Opinion Surveys Composite\",\n",
    "    \"TOTDTEUSQ163N\": \"US Total D/E Ratio\",\n",
    "    \"DDDI06USA156NWDB\": \"US Central Bank Assets to GDP\",\n",
    "    \"DDDM03USA156NWDB\": \"Domestic Private Debt\",\n",
    "    \"TRESEGUSM052N\": \"Total Reserves excluding Gold\"\n",
    "}"
   ]
  },
  {
   "cell_type": "code",
   "execution_count": 5,
   "metadata": {},
   "outputs": [],
   "source": [
    "def read_fred(symbol:str, name:str = None):\n",
    "    raw = pdr.get_data_fred(symbol)\n",
    "    if name:\n",
    "        raw.columns = [name]\n",
    "    return raw"
   ]
  },
  {
   "cell_type": "code",
   "execution_count": 6,
   "metadata": {},
   "outputs": [],
   "source": [
    "fred_data = [read_fred(k, v) for k, v in fred_keys.items()]\n",
    "fred_df = pd.concat(fred_data, axis=1)"
   ]
  },
  {
   "cell_type": "code",
   "execution_count": 7,
   "metadata": {},
   "outputs": [
    {
     "data": {
      "text/html": [
       "<div>\n",
       "<style scoped>\n",
       "    .dataframe tbody tr th:only-of-type {\n",
       "        vertical-align: middle;\n",
       "    }\n",
       "\n",
       "    .dataframe tbody tr th {\n",
       "        vertical-align: top;\n",
       "    }\n",
       "\n",
       "    .dataframe thead th {\n",
       "        text-align: right;\n",
       "    }\n",
       "</style>\n",
       "<table border=\"1\" class=\"dataframe\">\n",
       "  <thead>\n",
       "    <tr style=\"text-align: right;\">\n",
       "      <th></th>\n",
       "      <th>Federal Funds Effective Rate</th>\n",
       "      <th>US10Y Bond Yield</th>\n",
       "      <th>US Leading Indicators OECD</th>\n",
       "      <th>CPI</th>\n",
       "      <th>Core CPI</th>\n",
       "      <th>Consumer Opinion Surveys Composite</th>\n",
       "      <th>US Total D/E Ratio</th>\n",
       "      <th>US Central Bank Assets to GDP</th>\n",
       "      <th>Domestic Private Debt</th>\n",
       "      <th>Total Reserves excluding Gold</th>\n",
       "    </tr>\n",
       "    <tr>\n",
       "      <th>DATE</th>\n",
       "      <th></th>\n",
       "      <th></th>\n",
       "      <th></th>\n",
       "      <th></th>\n",
       "      <th></th>\n",
       "      <th></th>\n",
       "      <th></th>\n",
       "      <th></th>\n",
       "      <th></th>\n",
       "      <th></th>\n",
       "    </tr>\n",
       "  </thead>\n",
       "  <tbody>\n",
       "    <tr>\n",
       "      <th>2018-08-31</th>\n",
       "      <td>1.91</td>\n",
       "      <td>NaN</td>\n",
       "      <td>NaN</td>\n",
       "      <td>NaN</td>\n",
       "      <td>NaN</td>\n",
       "      <td>NaN</td>\n",
       "      <td>NaN</td>\n",
       "      <td>NaN</td>\n",
       "      <td>NaN</td>\n",
       "      <td>NaN</td>\n",
       "    </tr>\n",
       "    <tr>\n",
       "      <th>2018-09-01</th>\n",
       "      <td>1.91</td>\n",
       "      <td>3.0</td>\n",
       "      <td>100.433691</td>\n",
       "      <td>106.506706</td>\n",
       "      <td>106.680179</td>\n",
       "      <td>101.509937</td>\n",
       "      <td>NaN</td>\n",
       "      <td>NaN</td>\n",
       "      <td>NaN</td>\n",
       "      <td>1.126876e+11</td>\n",
       "    </tr>\n",
       "    <tr>\n",
       "      <th>2018-09-02</th>\n",
       "      <td>1.91</td>\n",
       "      <td>NaN</td>\n",
       "      <td>NaN</td>\n",
       "      <td>NaN</td>\n",
       "      <td>NaN</td>\n",
       "      <td>NaN</td>\n",
       "      <td>NaN</td>\n",
       "      <td>NaN</td>\n",
       "      <td>NaN</td>\n",
       "      <td>NaN</td>\n",
       "    </tr>\n",
       "    <tr>\n",
       "      <th>2018-09-03</th>\n",
       "      <td>1.91</td>\n",
       "      <td>NaN</td>\n",
       "      <td>NaN</td>\n",
       "      <td>NaN</td>\n",
       "      <td>NaN</td>\n",
       "      <td>NaN</td>\n",
       "      <td>NaN</td>\n",
       "      <td>NaN</td>\n",
       "      <td>NaN</td>\n",
       "      <td>NaN</td>\n",
       "    </tr>\n",
       "    <tr>\n",
       "      <th>2018-09-04</th>\n",
       "      <td>1.92</td>\n",
       "      <td>NaN</td>\n",
       "      <td>NaN</td>\n",
       "      <td>NaN</td>\n",
       "      <td>NaN</td>\n",
       "      <td>NaN</td>\n",
       "      <td>NaN</td>\n",
       "      <td>NaN</td>\n",
       "      <td>NaN</td>\n",
       "      <td>NaN</td>\n",
       "    </tr>\n",
       "  </tbody>\n",
       "</table>\n",
       "</div>"
      ],
      "text/plain": [
       "            Federal Funds Effective Rate  US10Y Bond Yield  \\\n",
       "DATE                                                         \n",
       "2018-08-31                          1.91               NaN   \n",
       "2018-09-01                          1.91               3.0   \n",
       "2018-09-02                          1.91               NaN   \n",
       "2018-09-03                          1.91               NaN   \n",
       "2018-09-04                          1.92               NaN   \n",
       "\n",
       "            US Leading Indicators OECD         CPI    Core CPI  \\\n",
       "DATE                                                             \n",
       "2018-08-31                         NaN         NaN         NaN   \n",
       "2018-09-01                  100.433691  106.506706  106.680179   \n",
       "2018-09-02                         NaN         NaN         NaN   \n",
       "2018-09-03                         NaN         NaN         NaN   \n",
       "2018-09-04                         NaN         NaN         NaN   \n",
       "\n",
       "            Consumer Opinion Surveys Composite  US Total D/E Ratio  \\\n",
       "DATE                                                                 \n",
       "2018-08-31                                 NaN                 NaN   \n",
       "2018-09-01                          101.509937                 NaN   \n",
       "2018-09-02                                 NaN                 NaN   \n",
       "2018-09-03                                 NaN                 NaN   \n",
       "2018-09-04                                 NaN                 NaN   \n",
       "\n",
       "            US Central Bank Assets to GDP  Domestic Private Debt  \\\n",
       "DATE                                                               \n",
       "2018-08-31                            NaN                    NaN   \n",
       "2018-09-01                            NaN                    NaN   \n",
       "2018-09-02                            NaN                    NaN   \n",
       "2018-09-03                            NaN                    NaN   \n",
       "2018-09-04                            NaN                    NaN   \n",
       "\n",
       "            Total Reserves excluding Gold  \n",
       "DATE                                       \n",
       "2018-08-31                            NaN  \n",
       "2018-09-01                   1.126876e+11  \n",
       "2018-09-02                            NaN  \n",
       "2018-09-03                            NaN  \n",
       "2018-09-04                            NaN  "
      ]
     },
     "execution_count": 7,
     "metadata": {},
     "output_type": "execute_result"
    }
   ],
   "source": [
    "fred_df.head()"
   ]
  },
  {
   "cell_type": "code",
   "execution_count": 8,
   "metadata": {},
   "outputs": [],
   "source": [
    "# Alphavantage\n",
    "with open('./keys/creds.json') as f:\n",
    "    keys = json.load(f)\n",
    "    key = keys['AlphaVantage']"
   ]
  },
  {
   "cell_type": "code",
   "execution_count": 9,
   "metadata": {},
   "outputs": [],
   "source": [
    "url = 'https://www.alphavantage.co/query?function=TREASURY_YIELD&interval=monthly&maturity=10year&apikey=demo'\n",
    "base_url = 'https://www.alphavantage.co/query'\n",
    "params = {\n",
    "    'apikey': key,\n",
    "    'function': 'TREASURY_YIELD',\n",
    "    'interval': 'daily',\n",
    "    'maturity': '10year',\n",
    "    'datatype': 'json'\n",
    "}\n",
    "res = requests.get(base_url, params=params)"
   ]
  },
  {
   "cell_type": "code",
   "execution_count": 16,
   "metadata": {},
   "outputs": [
    {
     "data": {
      "text/html": [
       "<div>\n",
       "<style scoped>\n",
       "    .dataframe tbody tr th:only-of-type {\n",
       "        vertical-align: middle;\n",
       "    }\n",
       "\n",
       "    .dataframe tbody tr th {\n",
       "        vertical-align: top;\n",
       "    }\n",
       "\n",
       "    .dataframe thead th {\n",
       "        text-align: right;\n",
       "    }\n",
       "</style>\n",
       "<table border=\"1\" class=\"dataframe\">\n",
       "  <thead>\n",
       "    <tr style=\"text-align: right;\">\n",
       "      <th></th>\n",
       "      <th>us_10y</th>\n",
       "    </tr>\n",
       "    <tr>\n",
       "      <th>date</th>\n",
       "      <th></th>\n",
       "    </tr>\n",
       "  </thead>\n",
       "  <tbody>\n",
       "    <tr>\n",
       "      <th>1962-01-02</th>\n",
       "      <td>4.06</td>\n",
       "    </tr>\n",
       "    <tr>\n",
       "      <th>1962-01-03</th>\n",
       "      <td>4.03</td>\n",
       "    </tr>\n",
       "    <tr>\n",
       "      <th>1962-01-04</th>\n",
       "      <td>3.99</td>\n",
       "    </tr>\n",
       "    <tr>\n",
       "      <th>1962-01-05</th>\n",
       "      <td>4.02</td>\n",
       "    </tr>\n",
       "    <tr>\n",
       "      <th>1962-01-08</th>\n",
       "      <td>4.03</td>\n",
       "    </tr>\n",
       "  </tbody>\n",
       "</table>\n",
       "</div>"
      ],
      "text/plain": [
       "            us_10y\n",
       "date              \n",
       "1962-01-02    4.06\n",
       "1962-01-03    4.03\n",
       "1962-01-04    3.99\n",
       "1962-01-05    4.02\n",
       "1962-01-08    4.03"
      ]
     },
     "execution_count": 16,
     "metadata": {},
     "output_type": "execute_result"
    }
   ],
   "source": [
    "df = pd.DataFrame(res.json()['data'])\n",
    "# df['value'] = pd.to_numeric(df['value'])\n",
    "df['value'] = df['value'].apply(lambda x: None if x == '.' else float(x))\n",
    "df = df.rename(columns={'value': 'us_10y'}) \\\n",
    "        .set_index('date').sort_index()\n",
    "df.head()"
   ]
  },
  {
   "cell_type": "code",
   "execution_count": 17,
   "metadata": {},
   "outputs": [
    {
     "data": {
      "text/plain": [
       "<AxesSubplot: xlabel='date'>"
      ]
     },
     "execution_count": 17,
     "metadata": {},
     "output_type": "execute_result"
    },
    {
     "data": {
      "image/png": "[encoded data removed]",
      "text/plain": [
       "<Figure size 640x480 with 1 Axes>"
      ]
     },
     "metadata": {},
     "output_type": "display_data"
    }
   ],
   "source": [
    "df.plot()"
   ]
  },
  {
   "cell_type": "code",
   "execution_count": 19,
   "metadata": {},
   "outputs": [],
   "source": [
    "# save data\n",
    "df.to_csv('./data/us/bond_yield/us_10y.csv')"
   ]
  },
  {
   "cell_type": "code",
   "execution_count": null,
   "metadata": {},
   "outputs": [],
   "source": []
  }
 ],
 "metadata": {
  "kernelspec": {
   "display_name": "Python 3.7.4 ('env': venv)",
   "language": "python",
   "name": "python3"
  },
  "language_info": {
   "codemirror_mode": {
    "name": "ipython",
    "version": 3
   },
   "file_extension": ".py",
   "mimetype": "text/x-python",
   "name": "python",
   "nbconvert_exporter": "python",
   "pygments_lexer": "ipython3",
   "version": "3.11.1"
  },
  "orig_nbformat": 4,
  "vscode": {
   "interpreter": {
    "hash": "ca43931a65648d41bb3c46c193580f8aaecea6d48500f39d0b644d7f33dd4183"
   }
  }
 },
 "nbformat": 4,
 "nbformat_minor": 2
}
