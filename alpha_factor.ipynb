{
 "cells": [
  {
   "cell_type": "code",
   "execution_count": 1,
   "metadata": {},
   "outputs": [],
   "source": [
    "import pandas as pd \n",
    "import numpy as np \n",
    "import matplotlib.pyplot as plt\n",
    "import seaborn as sns\n",
    "import datetime as dt \n",
    "import scipy.stats as stats\n",
    "from sklearn.linear_model import LinearRegression\n",
    "import statsmodels.api as sm\n",
    "import alphalens as al\n",
    "import warnings\n",
    "import json\n",
    "\n",
    "from functions.datareader import pull_stock_data, YFinanceReader\n",
    "from functions.portfolio_optimizer import RiskModelPCA, OptimalHoldings, OptimalHoldingsStrictFactor\n",
    "from functions.alpha_factor_evaluator import AlphaFactorEvaluator\n",
    "from functions.indicators import TechnicalIndicators\n",
    "\n",
    "warnings.filterwarnings('ignore')"
   ]
  },
  {
   "cell_type": "code",
   "execution_count": 2,
   "metadata": {},
   "outputs": [],
   "source": [
    "# define all parameters\n",
    "START_DATE = dt.date(2015, 1, 1)"
   ]
  },
  {
   "attachments": {},
   "cell_type": "markdown",
   "metadata": {},
   "source": [
    "<h1 style=\"color:turquoise\">Load data from local</h1>"
   ]
  },
  {
   "cell_type": "code",
   "execution_count": 3,
   "metadata": {},
   "outputs": [],
   "source": [
    "# sectors\n",
    "with open('./keys/set_sectors.json') as f:\n",
    "    sectors = json.load(f)"
   ]
  },
  {
   "cell_type": "code",
   "execution_count": 4,
   "metadata": {},
   "outputs": [
    {
     "data": {
      "text/html": [
       "<div>\n",
       "<style scoped>\n",
       "    .dataframe tbody tr th:only-of-type {\n",
       "        vertical-align: middle;\n",
       "    }\n",
       "\n",
       "    .dataframe tbody tr th {\n",
       "        vertical-align: top;\n",
       "    }\n",
       "\n",
       "    .dataframe thead th {\n",
       "        text-align: right;\n",
       "    }\n",
       "</style>\n",
       "<table border=\"1\" class=\"dataframe\">\n",
       "  <thead>\n",
       "    <tr style=\"text-align: right;\">\n",
       "      <th></th>\n",
       "      <th>ticker</th>\n",
       "      <th>close</th>\n",
       "      <th>dividends</th>\n",
       "      <th>high</th>\n",
       "      <th>low</th>\n",
       "      <th>open</th>\n",
       "      <th>stock splits</th>\n",
       "      <th>volume</th>\n",
       "    </tr>\n",
       "    <tr>\n",
       "      <th>date</th>\n",
       "      <th></th>\n",
       "      <th></th>\n",
       "      <th></th>\n",
       "      <th></th>\n",
       "      <th></th>\n",
       "      <th></th>\n",
       "      <th></th>\n",
       "      <th></th>\n",
       "    </tr>\n",
       "  </thead>\n",
       "  <tbody>\n",
       "    <tr>\n",
       "      <th>2023-04-25</th>\n",
       "      <td>WHA</td>\n",
       "      <td>4.42</td>\n",
       "      <td>0.0</td>\n",
       "      <td>4.44</td>\n",
       "      <td>4.38</td>\n",
       "      <td>4.42</td>\n",
       "      <td>0.0</td>\n",
       "      <td>38961400.0</td>\n",
       "    </tr>\n",
       "    <tr>\n",
       "      <th>2023-04-26</th>\n",
       "      <td>WHA</td>\n",
       "      <td>4.42</td>\n",
       "      <td>0.0</td>\n",
       "      <td>4.44</td>\n",
       "      <td>4.34</td>\n",
       "      <td>4.42</td>\n",
       "      <td>0.0</td>\n",
       "      <td>50271318.0</td>\n",
       "    </tr>\n",
       "  </tbody>\n",
       "</table>\n",
       "</div>"
      ],
      "text/plain": [
       "           ticker  close  dividends  high   low  open  stock splits  \\\n",
       "date                                                                  \n",
       "2023-04-25    WHA   4.42        0.0  4.44  4.38  4.42           0.0   \n",
       "2023-04-26    WHA   4.42        0.0  4.44  4.34  4.42           0.0   \n",
       "\n",
       "                volume  \n",
       "date                    \n",
       "2023-04-25  38961400.0  \n",
       "2023-04-26  50271318.0  "
      ]
     },
     "execution_count": 4,
     "metadata": {},
     "output_type": "execute_result"
    }
   ],
   "source": [
    "# price data\n",
    "raw_df = pd.read_parquet('./data/set')\n",
    "\n",
    "raw_df.set_index(pd.DatetimeIndex(raw_df.index))\n",
    "raw_df.index.name = 'date'\n",
    "raw_df.tail(2)"
   ]
  },
  {
   "cell_type": "code",
   "execution_count": 5,
   "metadata": {},
   "outputs": [],
   "source": [
    "# map sector using the sector dict above\n",
    "vk = [(k, v) for k, v in sectors.items()]\n",
    "sector_mapper = {sub: s[0]for s in vk for sub in s[1]}\n",
    "raw_df['sector'] = raw_df['ticker'].map(sector_mapper)"
   ]
  },
  {
   "cell_type": "code",
   "execution_count": 6,
   "metadata": {},
   "outputs": [],
   "source": [
    "# filter only stocks that exist since our start date\n",
    "first_date_df = raw_df[['ticker']].reset_index().groupby('ticker').min()\n",
    "first_date_df['is_available_since_start'] = first_date_df['date'].apply(lambda x: True if x <= START_DATE else False)\n",
    "\n",
    "available_tickers = first_date_df[first_date_df['is_available_since_start'] == True].reset_index()['ticker']\n",
    "\n",
    "# create a sector_mapper of available stocks\n",
    "sector_mapper_available = {s:sector_mapper[s] for s in sector_mapper if s in available_tickers.values}\n",
    "\n",
    "# filter only selected stocks\n",
    "selected_df = raw_df.reset_index().merge(available_tickers, left_on = 'ticker', right_on = 'ticker').set_index('date')\n",
    "\n",
    "# create an OHLCV df in order to calculate technical indicators\n",
    "ohlcv_df = selected_df[['ticker', 'open', 'high', 'low', 'close', 'volume']]\n",
    "\n",
    "# create a dataframe of close price\n",
    "close_df = selected_df[['ticker', 'sector', 'close']]"
   ]
  },
  {
   "attachments": {},
   "cell_type": "markdown",
   "metadata": {},
   "source": [
    "<h1 style=\"color:turquoise\">Prepare data</h1>\n",
    "\n",
    "<h3>Technical Indicators</h3>"
   ]
  },
  {
   "cell_type": "code",
   "execution_count": 7,
   "metadata": {},
   "outputs": [],
   "source": [
    "ti_df = pd.DataFrame()\n",
    "\n",
    "# * split multi-index dataframe to a dict of which each value represents OHLCV of each stock\n",
    "for ticker in available_tickers.values:\n",
    "    ticker_df = ohlcv_df[ohlcv_df['ticker'] == ticker].drop('ticker', axis = 1)\n",
    "    \n",
    "    ti = TechnicalIndicators(ticker_df)\n",
    "    res_dict = dict()\n",
    "    res_dict['rsi'] = ti.RSI(n = 14)\n",
    "    res_dict['stochastic_rsi_k'], res_dict['stochastic_rsi_d'] = ti.stochasticRSI(n = 14, k = 3, d = 3)\n",
    "    res_dict['macd'], res_dict['macd_signal'] = ti.MACD(n_long = 26, n_short = 12)\n",
    "    res_dict['vol_change_pct'] = ti.volume_change_pct()\n",
    "    res_dict['overnight_return'] = ti.overnight_return()\n",
    "    res_dict['cv_ratio'] = ti.candlestick_volume_ratio(mode='whisker')\n",
    "    res_dict['bollinger_ratio'] = ti.bollinger_ratio(n = 20, k = 2)\n",
    "    res_df = pd.DataFrame.from_dict(res_dict).reset_index()\n",
    "    res_df.insert(1, 'ticker', ticker)\n",
    "\n",
    "    ti_df = ti_df.append(res_df, ignore_index = True)\n",
    "\n",
    "# * filter date\n",
    "ti_df = ti_df[ti_df['date'].dt.date >= START_DATE] \\\n",
    "            .set_index(['date', 'ticker'])\n"
   ]
  },
  {
   "cell_type": "code",
   "execution_count": 8,
   "metadata": {},
   "outputs": [
    {
     "data": {
      "text/html": [
       "<div>\n",
       "<style scoped>\n",
       "    .dataframe tbody tr th:only-of-type {\n",
       "        vertical-align: middle;\n",
       "    }\n",
       "\n",
       "    .dataframe tbody tr th {\n",
       "        vertical-align: top;\n",
       "    }\n",
       "\n",
       "    .dataframe thead th {\n",
       "        text-align: right;\n",
       "    }\n",
       "</style>\n",
       "<table border=\"1\" class=\"dataframe\">\n",
       "  <thead>\n",
       "    <tr style=\"text-align: right;\">\n",
       "      <th></th>\n",
       "      <th></th>\n",
       "      <th>rsi</th>\n",
       "      <th>stochastic_rsi_k</th>\n",
       "      <th>stochastic_rsi_d</th>\n",
       "      <th>macd</th>\n",
       "      <th>macd_signal</th>\n",
       "      <th>vol_change_pct</th>\n",
       "      <th>overnight_return</th>\n",
       "      <th>cv_ratio</th>\n",
       "      <th>bollinger_ratio</th>\n",
       "    </tr>\n",
       "    <tr>\n",
       "      <th>date</th>\n",
       "      <th>ticker</th>\n",
       "      <th></th>\n",
       "      <th></th>\n",
       "      <th></th>\n",
       "      <th></th>\n",
       "      <th></th>\n",
       "      <th></th>\n",
       "      <th></th>\n",
       "      <th></th>\n",
       "      <th></th>\n",
       "    </tr>\n",
       "  </thead>\n",
       "  <tbody>\n",
       "    <tr>\n",
       "      <th>2015-01-05</th>\n",
       "      <th>AEONTS</th>\n",
       "      <td>35.714196</td>\n",
       "      <td>0.075352</td>\n",
       "      <td>0.025117</td>\n",
       "      <td>-0.060835</td>\n",
       "      <td>0.584415</td>\n",
       "      <td>0.385835</td>\n",
       "      <td>-0.009217</td>\n",
       "      <td>0.000007</td>\n",
       "      <td>0.110592</td>\n",
       "    </tr>\n",
       "    <tr>\n",
       "      <th>2015-01-06</th>\n",
       "      <th>AEONTS</th>\n",
       "      <td>33.333333</td>\n",
       "      <td>0.023444</td>\n",
       "      <td>0.032932</td>\n",
       "      <td>-0.179482</td>\n",
       "      <td>0.431635</td>\n",
       "      <td>1.195815</td>\n",
       "      <td>-0.009259</td>\n",
       "      <td>0.000014</td>\n",
       "      <td>0.166329</td>\n",
       "    </tr>\n",
       "    <tr>\n",
       "      <th>2015-01-07</th>\n",
       "      <th>AEONTS</th>\n",
       "      <td>25.000061</td>\n",
       "      <td>0.000000</td>\n",
       "      <td>0.032932</td>\n",
       "      <td>-0.239271</td>\n",
       "      <td>0.297454</td>\n",
       "      <td>0.279924</td>\n",
       "      <td>0.004608</td>\n",
       "      <td>0.000014</td>\n",
       "      <td>0.224731</td>\n",
       "    </tr>\n",
       "  </tbody>\n",
       "</table>\n",
       "</div>"
      ],
      "text/plain": [
       "                         rsi  stochastic_rsi_k  stochastic_rsi_d      macd  \\\n",
       "date       ticker                                                            \n",
       "2015-01-05 AEONTS  35.714196          0.075352          0.025117 -0.060835   \n",
       "2015-01-06 AEONTS  33.333333          0.023444          0.032932 -0.179482   \n",
       "2015-01-07 AEONTS  25.000061          0.000000          0.032932 -0.239271   \n",
       "\n",
       "                   macd_signal  vol_change_pct  overnight_return  cv_ratio  \\\n",
       "date       ticker                                                            \n",
       "2015-01-05 AEONTS     0.584415        0.385835         -0.009217  0.000007   \n",
       "2015-01-06 AEONTS     0.431635        1.195815         -0.009259  0.000014   \n",
       "2015-01-07 AEONTS     0.297454        0.279924          0.004608  0.000014   \n",
       "\n",
       "                   bollinger_ratio  \n",
       "date       ticker                   \n",
       "2015-01-05 AEONTS         0.110592  \n",
       "2015-01-06 AEONTS         0.166329  \n",
       "2015-01-07 AEONTS         0.224731  "
      ]
     },
     "execution_count": 8,
     "metadata": {},
     "output_type": "execute_result"
    }
   ],
   "source": [
    "ti_df.head(3)"
   ]
  },
  {
   "attachments": {},
   "cell_type": "markdown",
   "metadata": {},
   "source": [
    "<h3>Trailing 5-Day Return</h3>"
   ]
  },
  {
   "cell_type": "code",
   "execution_count": 9,
   "metadata": {},
   "outputs": [],
   "source": [
    "N_FORWARD = 5\n",
    "return_col_name = f'forward_return_{N_FORWARD}_day'\n",
    "daily_return_df = close_df.pivot(columns = 'ticker', values = 'close').pct_change(N_FORWARD).shift(-N_FORWARD).mul(100)\n",
    "\n",
    "# * filter date\n",
    "daily_return_df = daily_return_df[daily_return_df.index.date >= START_DATE].dropna(axis = 0)\n",
    "\n",
    "# * melt processed dataframe\n",
    "daily_return_df = pd.melt(daily_return_df.reset_index(), id_vars='date', value_name=return_col_name, var_name='ticker')\n",
    "daily_return_df.set_index(['date', 'ticker'], inplace=True)"
   ]
  },
  {
   "cell_type": "code",
   "execution_count": 10,
   "metadata": {},
   "outputs": [],
   "source": [
    "# TODO: combine x and y\n",
    "df = ti_df.merge(daily_return_df, left_index=True, right_index=True)\n",
    "\n",
    "# * map sector\n",
    "sector_inversed = {v:k for k in sectors for v in sectors[k]}\n",
    "df['sector'] = df.index.get_level_values(1).map(sector_inversed)"
   ]
  },
  {
   "attachments": {},
   "cell_type": "markdown",
   "metadata": {},
   "source": [
    "<h2>One-Hot Encode Sector</h2>"
   ]
  },
  {
   "cell_type": "code",
   "execution_count": 11,
   "metadata": {},
   "outputs": [],
   "source": [
    "from lightgbm import LGBMRegressor\n",
    "from sklearn.ensemble import RandomForestRegressor\n",
    "from sklearn.preprocessing import OneHotEncoder\n",
    "from sklearn.metrics import mean_squared_error\n",
    "from sklearn.model_selection import GridSearchCV, TimeSeriesSplit"
   ]
  },
  {
   "cell_type": "code",
   "execution_count": 12,
   "metadata": {},
   "outputs": [],
   "source": [
    "ohe = OneHotEncoder()\n",
    "ohe.fit(df[['sector']])\n",
    "sector_dummy = pd.DataFrame(ohe.transform(df[['sector']]).toarray(), columns = ohe.get_feature_names_out(), index = df.index)"
   ]
  },
  {
   "cell_type": "code",
   "execution_count": 13,
   "metadata": {},
   "outputs": [],
   "source": [
    "df = df.merge(sector_dummy, left_index=True, right_index=True).drop('sector', axis = 1)\n",
    "\n",
    "# * create month and day of week factors\n",
    "df['month'] = df.index.get_level_values(0).month\n",
    "df['day_of_week'] = df.index.get_level_values(0).dayofweek"
   ]
  },
  {
   "cell_type": "code",
   "execution_count": 14,
   "metadata": {},
   "outputs": [],
   "source": [
    "# # TODO: split data\n",
    "\n",
    "TRAIN_SIZE = 0.8\n",
    "dates = sorted(df.index.get_level_values(0))\n",
    "n_data = len(dates)\n",
    "train_split = int(TRAIN_SIZE * n_data)\n",
    "train_dates = dates[:train_split]\n",
    "test_dates = dates[train_split:]\n",
    "\n",
    "x_train = df[df.index.isin(train_dates, level=0)]\n",
    "x_test = df[df.index.isin(test_dates, level=0)]\n",
    "\n",
    "y_train = x_train.pop(return_col_name)\n",
    "y_test = x_test.pop(return_col_name)"
   ]
  },
  {
   "cell_type": "code",
   "execution_count": 59,
   "metadata": {},
   "outputs": [
    {
     "data": {
      "text/html": [
       "<style>#sk-container-id-5 {color: black;background-color: white;}#sk-container-id-5 pre{padding: 0;}#sk-container-id-5 div.sk-toggleable {background-color: white;}#sk-container-id-5 label.sk-toggleable__label {cursor: pointer;display: block;width: 100%;margin-bottom: 0;padding: 0.3em;box-sizing: border-box;text-align: center;}#sk-container-id-5 label.sk-toggleable__label-arrow:before {content: \"▸\";float: left;margin-right: 0.25em;color: #696969;}#sk-container-id-5 label.sk-toggleable__label-arrow:hover:before {color: black;}#sk-container-id-5 div.sk-estimator:hover label.sk-toggleable__label-arrow:before {color: black;}#sk-container-id-5 div.sk-toggleable__content {max-height: 0;max-width: 0;overflow: hidden;text-align: left;background-color: #f0f8ff;}#sk-container-id-5 div.sk-toggleable__content pre {margin: 0.2em;color: black;border-radius: 0.25em;background-color: #f0f8ff;}#sk-container-id-5 input.sk-toggleable__control:checked~div.sk-toggleable__content {max-height: 200px;max-width: 100%;overflow: auto;}#sk-container-id-5 input.sk-toggleable__control:checked~label.sk-toggleable__label-arrow:before {content: \"▾\";}#sk-container-id-5 div.sk-estimator input.sk-toggleable__control:checked~label.sk-toggleable__label {background-color: #d4ebff;}#sk-container-id-5 div.sk-label input.sk-toggleable__control:checked~label.sk-toggleable__label {background-color: #d4ebff;}#sk-container-id-5 input.sk-hidden--visually {border: 0;clip: rect(1px 1px 1px 1px);clip: rect(1px, 1px, 1px, 1px);height: 1px;margin: -1px;overflow: hidden;padding: 0;position: absolute;width: 1px;}#sk-container-id-5 div.sk-estimator {font-family: monospace;background-color: #f0f8ff;border: 1px dotted black;border-radius: 0.25em;box-sizing: border-box;margin-bottom: 0.5em;}#sk-container-id-5 div.sk-estimator:hover {background-color: #d4ebff;}#sk-container-id-5 div.sk-parallel-item::after {content: \"\";width: 100%;border-bottom: 1px solid gray;flex-grow: 1;}#sk-container-id-5 div.sk-label:hover label.sk-toggleable__label {background-color: #d4ebff;}#sk-container-id-5 div.sk-serial::before {content: \"\";position: absolute;border-left: 1px solid gray;box-sizing: border-box;top: 0;bottom: 0;left: 50%;z-index: 0;}#sk-container-id-5 div.sk-serial {display: flex;flex-direction: column;align-items: center;background-color: white;padding-right: 0.2em;padding-left: 0.2em;position: relative;}#sk-container-id-5 div.sk-item {position: relative;z-index: 1;}#sk-container-id-5 div.sk-parallel {display: flex;align-items: stretch;justify-content: center;background-color: white;position: relative;}#sk-container-id-5 div.sk-item::before, #sk-container-id-5 div.sk-parallel-item::before {content: \"\";position: absolute;border-left: 1px solid gray;box-sizing: border-box;top: 0;bottom: 0;left: 50%;z-index: -1;}#sk-container-id-5 div.sk-parallel-item {display: flex;flex-direction: column;z-index: 1;position: relative;background-color: white;}#sk-container-id-5 div.sk-parallel-item:first-child::after {align-self: flex-end;width: 50%;}#sk-container-id-5 div.sk-parallel-item:last-child::after {align-self: flex-start;width: 50%;}#sk-container-id-5 div.sk-parallel-item:only-child::after {width: 0;}#sk-container-id-5 div.sk-dashed-wrapped {border: 1px dashed gray;margin: 0 0.4em 0.5em 0.4em;box-sizing: border-box;padding-bottom: 0.4em;background-color: white;}#sk-container-id-5 div.sk-label label {font-family: monospace;font-weight: bold;display: inline-block;line-height: 1.2em;}#sk-container-id-5 div.sk-label-container {text-align: center;}#sk-container-id-5 div.sk-container {/* jupyter's `normalize.less` sets `[hidden] { display: none; }` but bootstrap.min.css set `[hidden] { display: none !important; }` so we also need the `!important` here to be able to override the default hidden behavior on the sphinx rendered scikit-learn.org. See: https://github.com/scikit-learn/scikit-learn/issues/21755 */display: inline-block !important;position: relative;}#sk-container-id-5 div.sk-text-repr-fallback {display: none;}</style><div id=\"sk-container-id-5\" class=\"sk-top-container\"><div class=\"sk-text-repr-fallback\"><pre>GridSearchCV(cv=TimeSeriesSplit(gap=0, max_train_size=None, n_splits=3, test_size=None),\n",
       "             estimator=LGBMRegressor(),\n",
       "             param_grid={&#x27;learning_rate&#x27;: [0.01, 0.1, 1],\n",
       "                         &#x27;max_depth&#x27;: [3, 5, 7],\n",
       "                         &#x27;n_estimators&#x27;: [50, 100, 200]})</pre><b>In a Jupyter environment, please rerun this cell to show the HTML representation or trust the notebook. <br />On GitHub, the HTML representation is unable to render, please try loading this page with nbviewer.org.</b></div><div class=\"sk-container\" hidden><div class=\"sk-item sk-dashed-wrapped\"><div class=\"sk-label-container\"><div class=\"sk-label sk-toggleable\"><input class=\"sk-toggleable__control sk-hidden--visually\" id=\"sk-estimator-id-9\" type=\"checkbox\" ><label for=\"sk-estimator-id-9\" class=\"sk-toggleable__label sk-toggleable__label-arrow\">GridSearchCV</label><div class=\"sk-toggleable__content\"><pre>GridSearchCV(cv=TimeSeriesSplit(gap=0, max_train_size=None, n_splits=3, test_size=None),\n",
       "             estimator=LGBMRegressor(),\n",
       "             param_grid={&#x27;learning_rate&#x27;: [0.01, 0.1, 1],\n",
       "                         &#x27;max_depth&#x27;: [3, 5, 7],\n",
       "                         &#x27;n_estimators&#x27;: [50, 100, 200]})</pre></div></div></div><div class=\"sk-parallel\"><div class=\"sk-parallel-item\"><div class=\"sk-item\"><div class=\"sk-label-container\"><div class=\"sk-label sk-toggleable\"><input class=\"sk-toggleable__control sk-hidden--visually\" id=\"sk-estimator-id-10\" type=\"checkbox\" ><label for=\"sk-estimator-id-10\" class=\"sk-toggleable__label sk-toggleable__label-arrow\">estimator: LGBMRegressor</label><div class=\"sk-toggleable__content\"><pre>LGBMRegressor()</pre></div></div></div><div class=\"sk-serial\"><div class=\"sk-item\"><div class=\"sk-estimator sk-toggleable\"><input class=\"sk-toggleable__control sk-hidden--visually\" id=\"sk-estimator-id-11\" type=\"checkbox\" ><label for=\"sk-estimator-id-11\" class=\"sk-toggleable__label sk-toggleable__label-arrow\">LGBMRegressor</label><div class=\"sk-toggleable__content\"><pre>LGBMRegressor()</pre></div></div></div></div></div></div></div></div></div></div>"
      ],
      "text/plain": [
       "GridSearchCV(cv=TimeSeriesSplit(gap=0, max_train_size=None, n_splits=3, test_size=None),\n",
       "             estimator=LGBMRegressor(),\n",
       "             param_grid={'learning_rate': [0.01, 0.1, 1],\n",
       "                         'max_depth': [3, 5, 7],\n",
       "                         'n_estimators': [50, 100, 200]})"
      ]
     },
     "execution_count": 59,
     "metadata": {},
     "output_type": "execute_result"
    }
   ],
   "source": [
    "# Create a LightGBM regressor object\n",
    "lgb_model = LGBMRegressor()\n",
    "\n",
    "# Specify the parameter grid to search over\n",
    "param_grid = {'n_estimators': [50, 100, 200],\n",
    "              'max_depth': [3, 5, 7],\n",
    "              'learning_rate': [0.01, 0.1, 1]}\n",
    "\n",
    "# Create a time-series aware cross-validator\n",
    "cv = TimeSeriesSplit(n_splits=3)\n",
    "\n",
    "# Create a GridSearchCV object with the specified parameters\n",
    "grid_search = GridSearchCV(estimator=lgb_model, param_grid=param_grid, cv=cv)\n",
    "\n",
    "# Fit the grid search object to the data\n",
    "grid_search.fit(x_train, y_train)\n"
   ]
  },
  {
   "cell_type": "code",
   "execution_count": 60,
   "metadata": {},
   "outputs": [
    {
     "data": {
      "text/html": [
       "<style>#sk-container-id-6 {color: black;background-color: white;}#sk-container-id-6 pre{padding: 0;}#sk-container-id-6 div.sk-toggleable {background-color: white;}#sk-container-id-6 label.sk-toggleable__label {cursor: pointer;display: block;width: 100%;margin-bottom: 0;padding: 0.3em;box-sizing: border-box;text-align: center;}#sk-container-id-6 label.sk-toggleable__label-arrow:before {content: \"▸\";float: left;margin-right: 0.25em;color: #696969;}#sk-container-id-6 label.sk-toggleable__label-arrow:hover:before {color: black;}#sk-container-id-6 div.sk-estimator:hover label.sk-toggleable__label-arrow:before {color: black;}#sk-container-id-6 div.sk-toggleable__content {max-height: 0;max-width: 0;overflow: hidden;text-align: left;background-color: #f0f8ff;}#sk-container-id-6 div.sk-toggleable__content pre {margin: 0.2em;color: black;border-radius: 0.25em;background-color: #f0f8ff;}#sk-container-id-6 input.sk-toggleable__control:checked~div.sk-toggleable__content {max-height: 200px;max-width: 100%;overflow: auto;}#sk-container-id-6 input.sk-toggleable__control:checked~label.sk-toggleable__label-arrow:before {content: \"▾\";}#sk-container-id-6 div.sk-estimator input.sk-toggleable__control:checked~label.sk-toggleable__label {background-color: #d4ebff;}#sk-container-id-6 div.sk-label input.sk-toggleable__control:checked~label.sk-toggleable__label {background-color: #d4ebff;}#sk-container-id-6 input.sk-hidden--visually {border: 0;clip: rect(1px 1px 1px 1px);clip: rect(1px, 1px, 1px, 1px);height: 1px;margin: -1px;overflow: hidden;padding: 0;position: absolute;width: 1px;}#sk-container-id-6 div.sk-estimator {font-family: monospace;background-color: #f0f8ff;border: 1px dotted black;border-radius: 0.25em;box-sizing: border-box;margin-bottom: 0.5em;}#sk-container-id-6 div.sk-estimator:hover {background-color: #d4ebff;}#sk-container-id-6 div.sk-parallel-item::after {content: \"\";width: 100%;border-bottom: 1px solid gray;flex-grow: 1;}#sk-container-id-6 div.sk-label:hover label.sk-toggleable__label {background-color: #d4ebff;}#sk-container-id-6 div.sk-serial::before {content: \"\";position: absolute;border-left: 1px solid gray;box-sizing: border-box;top: 0;bottom: 0;left: 50%;z-index: 0;}#sk-container-id-6 div.sk-serial {display: flex;flex-direction: column;align-items: center;background-color: white;padding-right: 0.2em;padding-left: 0.2em;position: relative;}#sk-container-id-6 div.sk-item {position: relative;z-index: 1;}#sk-container-id-6 div.sk-parallel {display: flex;align-items: stretch;justify-content: center;background-color: white;position: relative;}#sk-container-id-6 div.sk-item::before, #sk-container-id-6 div.sk-parallel-item::before {content: \"\";position: absolute;border-left: 1px solid gray;box-sizing: border-box;top: 0;bottom: 0;left: 50%;z-index: -1;}#sk-container-id-6 div.sk-parallel-item {display: flex;flex-direction: column;z-index: 1;position: relative;background-color: white;}#sk-container-id-6 div.sk-parallel-item:first-child::after {align-self: flex-end;width: 50%;}#sk-container-id-6 div.sk-parallel-item:last-child::after {align-self: flex-start;width: 50%;}#sk-container-id-6 div.sk-parallel-item:only-child::after {width: 0;}#sk-container-id-6 div.sk-dashed-wrapped {border: 1px dashed gray;margin: 0 0.4em 0.5em 0.4em;box-sizing: border-box;padding-bottom: 0.4em;background-color: white;}#sk-container-id-6 div.sk-label label {font-family: monospace;font-weight: bold;display: inline-block;line-height: 1.2em;}#sk-container-id-6 div.sk-label-container {text-align: center;}#sk-container-id-6 div.sk-container {/* jupyter's `normalize.less` sets `[hidden] { display: none; }` but bootstrap.min.css set `[hidden] { display: none !important; }` so we also need the `!important` here to be able to override the default hidden behavior on the sphinx rendered scikit-learn.org. See: https://github.com/scikit-learn/scikit-learn/issues/21755 */display: inline-block !important;position: relative;}#sk-container-id-6 div.sk-text-repr-fallback {display: none;}</style><div id=\"sk-container-id-6\" class=\"sk-top-container\"><div class=\"sk-text-repr-fallback\"><pre>LGBMRegressor(max_depth=7, n_estimators=50)</pre><b>In a Jupyter environment, please rerun this cell to show the HTML representation or trust the notebook. <br />On GitHub, the HTML representation is unable to render, please try loading this page with nbviewer.org.</b></div><div class=\"sk-container\" hidden><div class=\"sk-item\"><div class=\"sk-estimator sk-toggleable\"><input class=\"sk-toggleable__control sk-hidden--visually\" id=\"sk-estimator-id-12\" type=\"checkbox\" checked><label for=\"sk-estimator-id-12\" class=\"sk-toggleable__label sk-toggleable__label-arrow\">LGBMRegressor</label><div class=\"sk-toggleable__content\"><pre>LGBMRegressor(max_depth=7, n_estimators=50)</pre></div></div></div></div></div>"
      ],
      "text/plain": [
       "LGBMRegressor(max_depth=7, n_estimators=50)"
      ]
     },
     "execution_count": 60,
     "metadata": {},
     "output_type": "execute_result"
    }
   ],
   "source": [
    "# # TODO: use the best param to train the entire training data\n",
    "lgb_model = LGBMRegressor(**grid_search.best_params_)\n",
    "lgb_model.fit(x_train, y_train)\n"
   ]
  },
  {
   "cell_type": "code",
   "execution_count": 61,
   "metadata": {},
   "outputs": [
    {
     "name": "stdout",
     "output_type": "stream",
     "text": [
      "MSE on training data: 19.0712\n",
      "MSE on testing data: 24.6040\n"
     ]
    }
   ],
   "source": [
    "# # TODO: get training and testing errors\n",
    "y_train_pred = lgb_model.predict(x_train)\n",
    "y_pred = lgb_model.predict(x_test)\n",
    "mse_train = mean_squared_error(y_train_pred, y_train)\n",
    "mse_test = mean_squared_error(y_pred, y_test)\n",
    "\n",
    "print(f'MSE on training data: {mse_train:.4f}')\n",
    "print(f'MSE on testing data: {mse_test:.4f}')"
   ]
  },
  {
   "cell_type": "code",
   "execution_count": 62,
   "metadata": {},
   "outputs": [
    {
     "data": {
      "text/plain": [
       "month                            234\n",
       "macd_signal                      185\n",
       "cv_ratio                         158\n",
       "macd                             145\n",
       "overnight_return                 136\n",
       "rsi                              110\n",
       "bollinger_ratio                  107\n",
       "stochastic_rsi_d                  92\n",
       "vol_change_pct                    73\n",
       "stochastic_rsi_k                  50\n",
       "day_of_week                       38\n",
       "sector_consumer_discretionary     30\n",
       "sector_consumer_finance           29\n",
       "sector_hotel                      26\n",
       "sector_petrochemistry             20\n",
       "sector_banking                    14\n",
       "sector_utilities                  12\n",
       "sector_real_estate                11\n",
       "sector_consumer_staple             9\n",
       "sector_hospital                    6\n",
       "sector_material                    6\n",
       "sector_insurance                   4\n",
       "sector_industrial                  3\n",
       "sector_infrastructure              2\n",
       "dtype: int32"
      ]
     },
     "execution_count": 62,
     "metadata": {},
     "output_type": "execute_result"
    }
   ],
   "source": [
    "# # * feature importance\n",
    "importances = pd.Series(lgb_model.feature_importances_, index = lgb_model.feature_name_) \\\n",
    "                .sort_values(ascending=False)\n",
    "importances"
   ]
  },
  {
   "attachments": {},
   "cell_type": "markdown",
   "metadata": {},
   "source": [
    "<h1 style=\"color:blue\">Mock Project 7 Starter</h1>"
   ]
  },
  {
   "cell_type": "code",
   "execution_count": 15,
   "metadata": {},
   "outputs": [],
   "source": [
    "n_stocks = len(sector_mapper_available)\n",
    "n_days = len(x_train)\n",
    "\n",
    "clf_parameters = {\n",
    "    'criterion': 'squared_error',\n",
    "    'min_samples_leaf': n_stocks * n_days,\n",
    "    'oob_score': True,\n",
    "    'n_jobs': -1,\n",
    "    'random_state': 42}\n",
    "n_trees_l = [50, 100, 250, 500, 1000]"
   ]
  },
  {
   "cell_type": "code",
   "execution_count": 16,
   "metadata": {},
   "outputs": [],
   "source": [
    "for c in x_train:\n",
    "    sum_null = x_train[c].isnull().sum()\n",
    "    if sum_null > 0:\n",
    "        print(f'{c}: {sum_null}')"
   ]
  },
  {
   "cell_type": "code",
   "execution_count": 17,
   "metadata": {},
   "outputs": [],
   "source": [
    "train_score = []\n",
    "valid_score = []\n",
    "oob_score = []\n",
    "feature_importances = []\n",
    "\n",
    "for n_trees in n_trees_l:\n",
    "    clf = RandomForestRegressor(n_trees, **clf_parameters)\n",
    "    clf.fit(x_train, y_train)\n",
    "    \n",
    "    train_score.append(clf.score(x_train, y_train.values))\n",
    "    valid_score.append(clf.score(x_test, y_test.values))\n",
    "    oob_score.append(clf.oob_score_)\n",
    "    feature_importances.append(clf.feature_importances_)"
   ]
  },
  {
   "cell_type": "code",
   "execution_count": null,
   "metadata": {},
   "outputs": [],
   "source": []
  }
 ],
 "metadata": {
  "kernelspec": {
   "display_name": "Python 3",
   "language": "python",
   "name": "python3"
  },
  "language_info": {
   "codemirror_mode": {
    "name": "ipython",
    "version": 3
   },
   "file_extension": ".py",
   "mimetype": "text/x-python",
   "name": "python",
   "nbconvert_exporter": "python",
   "pygments_lexer": "ipython3",
   "version": "3.11.1"
  },
  "orig_nbformat": 4
 },
 "nbformat": 4,
 "nbformat_minor": 2
}
