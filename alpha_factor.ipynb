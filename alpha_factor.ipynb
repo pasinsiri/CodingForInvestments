{
 "cells": [
  {
   "cell_type": "code",
   "execution_count": 27,
   "metadata": {},
   "outputs": [],
   "source": [
    "import pandas as pd \n",
    "import numpy as np \n",
    "import matplotlib.pyplot as plt\n",
    "import seaborn as sns\n",
    "import datetime as dt \n",
    "import scipy.stats as stats\n",
    "from sklearn.linear_model import LinearRegression\n",
    "import statsmodels.api as sm\n",
    "import alphalens as al\n",
    "import warnings\n",
    "import json\n",
    "\n",
    "from functions.datareader import pull_stock_data, YFinanceReader\n",
    "from functions.portfolio_optimizer import RiskModelPCA, OptimalHoldings, OptimalHoldingsStrictFactor\n",
    "from functions.alpha_factor_evaluator import AlphaFactorEvaluator\n",
    "from functions.indicators import TechnicalIndicators\n",
    "\n",
    "warnings.filterwarnings('ignore')"
   ]
  },
  {
   "cell_type": "code",
   "execution_count": 28,
   "metadata": {},
   "outputs": [],
   "source": [
    "# define all parameters\n",
    "START_DATE = dt.date(2015, 1, 1)"
   ]
  },
  {
   "attachments": {},
   "cell_type": "markdown",
   "metadata": {},
   "source": [
    "<h1 style=\"color:turquoise\">Load data from local</h1>"
   ]
  },
  {
   "cell_type": "code",
   "execution_count": 29,
   "metadata": {},
   "outputs": [],
   "source": [
    "# sectors\n",
    "with open('./keys/set_sectors.json') as f:\n",
    "    sectors = json.load(f)"
   ]
  },
  {
   "cell_type": "code",
   "execution_count": 30,
   "metadata": {},
   "outputs": [
    {
     "data": {
      "text/html": [
       "<div>\n",
       "<style scoped>\n",
       "    .dataframe tbody tr th:only-of-type {\n",
       "        vertical-align: middle;\n",
       "    }\n",
       "\n",
       "    .dataframe tbody tr th {\n",
       "        vertical-align: top;\n",
       "    }\n",
       "\n",
       "    .dataframe thead th {\n",
       "        text-align: right;\n",
       "    }\n",
       "</style>\n",
       "<table border=\"1\" class=\"dataframe\">\n",
       "  <thead>\n",
       "    <tr style=\"text-align: right;\">\n",
       "      <th></th>\n",
       "      <th>ticker</th>\n",
       "      <th>close</th>\n",
       "      <th>dividends</th>\n",
       "      <th>high</th>\n",
       "      <th>low</th>\n",
       "      <th>open</th>\n",
       "      <th>stock splits</th>\n",
       "      <th>volume</th>\n",
       "    </tr>\n",
       "    <tr>\n",
       "      <th>date</th>\n",
       "      <th></th>\n",
       "      <th></th>\n",
       "      <th></th>\n",
       "      <th></th>\n",
       "      <th></th>\n",
       "      <th></th>\n",
       "      <th></th>\n",
       "      <th></th>\n",
       "    </tr>\n",
       "  </thead>\n",
       "  <tbody>\n",
       "    <tr>\n",
       "      <th>2023-04-05</th>\n",
       "      <td>WHA</td>\n",
       "      <td>4.38</td>\n",
       "      <td>0.0</td>\n",
       "      <td>4.48</td>\n",
       "      <td>4.36</td>\n",
       "      <td>4.38</td>\n",
       "      <td>0.0</td>\n",
       "      <td>108015000.0</td>\n",
       "    </tr>\n",
       "    <tr>\n",
       "      <th>2023-04-07</th>\n",
       "      <td>WHA</td>\n",
       "      <td>4.38</td>\n",
       "      <td>0.0</td>\n",
       "      <td>4.38</td>\n",
       "      <td>4.32</td>\n",
       "      <td>4.36</td>\n",
       "      <td>0.0</td>\n",
       "      <td>43875200.0</td>\n",
       "    </tr>\n",
       "  </tbody>\n",
       "</table>\n",
       "</div>"
      ],
      "text/plain": [
       "           ticker  close  dividends  high   low  open  stock splits  \\\n",
       "date                                                                  \n",
       "2023-04-05    WHA   4.38        0.0  4.48  4.36  4.38           0.0   \n",
       "2023-04-07    WHA   4.38        0.0  4.38  4.32  4.36           0.0   \n",
       "\n",
       "                 volume  \n",
       "date                     \n",
       "2023-04-05  108015000.0  \n",
       "2023-04-07   43875200.0  "
      ]
     },
     "execution_count": 30,
     "metadata": {},
     "output_type": "execute_result"
    }
   ],
   "source": [
    "# price data\n",
    "raw_df = pd.read_parquet('./data/set')\n",
    "\n",
    "raw_df.set_index(pd.DatetimeIndex(raw_df.index))\n",
    "raw_df.index.name = 'date'\n",
    "raw_df.tail(2)"
   ]
  },
  {
   "cell_type": "code",
   "execution_count": 31,
   "metadata": {},
   "outputs": [],
   "source": [
    "# map sector using the sector dict above\n",
    "vk = [(k, v) for k, v in sectors.items()]\n",
    "sector_mapper = {sub: s[0]for s in vk for sub in s[1]}\n",
    "raw_df['sector'] = raw_df['ticker'].map(sector_mapper)"
   ]
  },
  {
   "cell_type": "code",
   "execution_count": 32,
   "metadata": {},
   "outputs": [],
   "source": [
    "# filter only stocks that exist since our start date\n",
    "first_date_df = raw_df[['ticker']].reset_index().groupby('ticker').min()\n",
    "first_date_df['is_available_since_start'] = first_date_df['date'].apply(lambda x: True if x <= START_DATE else False)\n",
    "\n",
    "available_tickers = first_date_df[first_date_df['is_available_since_start'] == True].reset_index()['ticker']\n",
    "\n",
    "# create a sector_mapper of available stocks\n",
    "sector_mapper_available = {s:sector_mapper[s] for s in sector_mapper if s in available_tickers.values}\n",
    "\n",
    "# filter only selected stocks\n",
    "df = raw_df.reset_index().merge(available_tickers, left_on = 'ticker', right_on = 'ticker').set_index('date')\n",
    "\n",
    "# create an OHLCV df in order to calculate technical indicators\n",
    "ohlcv_df = df[['ticker', 'open', 'high', 'low', 'close', 'volume']]\n",
    "\n",
    "# create a dataframe of close price\n",
    "close_df = df[['ticker', 'sector', 'close']]"
   ]
  },
  {
   "attachments": {},
   "cell_type": "markdown",
   "metadata": {},
   "source": [
    "<h1 style=\"color:turquoise\">Prepare data</h1>\n",
    "\n",
    "<h3>Technical Indicators</h3>"
   ]
  },
  {
   "cell_type": "code",
   "execution_count": 51,
   "metadata": {},
   "outputs": [],
   "source": [
    "ti_df = pd.DataFrame()\n",
    "\n",
    "# * split multi-index dataframe to a dict of which each value represents OHLCV of each stock\n",
    "for ticker in available_tickers.values:\n",
    "    ticker_df = ohlcv_df[ohlcv_df['ticker'] == ticker].drop('ticker', axis = 1)\n",
    "    \n",
    "    ti = TechnicalIndicators(ticker_df)\n",
    "    res_dict = dict()\n",
    "    res_dict['rsi'] = ti.RSI(n = 14)\n",
    "    res_dict['stochastic_rsi_k'], res_dict['stochastic_rsi_d'] = ti.stochasticRSI(n = 14, k = 3, d = 3)\n",
    "    res_dict['macd'], res_dict['macd_signal'] = ti.MACD(n_long = 26, n_short = 12)\n",
    "    res_dict['vol_change_pct'] = ti.volume_change_pct()\n",
    "    res_dict['overnight_return'] = ti.overnight_return()\n",
    "    res_dict['cv_ratio'] = ti.candlestick_volume_ratio()\n",
    "    res_dict['bollinger_ratio'] = ti.bollinger_ratio(n = 20, k = 2)\n",
    "    res_df = pd.DataFrame.from_dict(res_dict).reset_index()\n",
    "    res_df.insert(1, 'ticker', ticker)\n",
    "\n",
    "    ti_df = ti_df.append(res_df, ignore_index = True)\n",
    "\n",
    "# * filter date\n",
    "ti_df = ti_df[ti_df['date'].dt.date >= START_DATE] \\\n",
    "            .set_index(['date', 'ticker'])\n"
   ]
  },
  {
   "cell_type": "code",
   "execution_count": 52,
   "metadata": {},
   "outputs": [
    {
     "data": {
      "text/html": [
       "<div>\n",
       "<style scoped>\n",
       "    .dataframe tbody tr th:only-of-type {\n",
       "        vertical-align: middle;\n",
       "    }\n",
       "\n",
       "    .dataframe tbody tr th {\n",
       "        vertical-align: top;\n",
       "    }\n",
       "\n",
       "    .dataframe thead th {\n",
       "        text-align: right;\n",
       "    }\n",
       "</style>\n",
       "<table border=\"1\" class=\"dataframe\">\n",
       "  <thead>\n",
       "    <tr style=\"text-align: right;\">\n",
       "      <th></th>\n",
       "      <th></th>\n",
       "      <th>rsi</th>\n",
       "      <th>stochastic_rsi_k</th>\n",
       "      <th>stochastic_rsi_d</th>\n",
       "      <th>macd</th>\n",
       "      <th>macd_signal</th>\n",
       "      <th>vol_change_pct</th>\n",
       "      <th>overnight_return</th>\n",
       "      <th>cv_ratio</th>\n",
       "      <th>bollinger_ratio</th>\n",
       "    </tr>\n",
       "    <tr>\n",
       "      <th>date</th>\n",
       "      <th>ticker</th>\n",
       "      <th></th>\n",
       "      <th></th>\n",
       "      <th></th>\n",
       "      <th></th>\n",
       "      <th></th>\n",
       "      <th></th>\n",
       "      <th></th>\n",
       "      <th></th>\n",
       "      <th></th>\n",
       "    </tr>\n",
       "  </thead>\n",
       "  <tbody>\n",
       "    <tr>\n",
       "      <th>2015-01-05</th>\n",
       "      <th>AEONTS</th>\n",
       "      <td>35.714143</td>\n",
       "      <td>0.075354</td>\n",
       "      <td>0.025118</td>\n",
       "      <td>-0.061802</td>\n",
       "      <td>0.593707</td>\n",
       "      <td>1.618357</td>\n",
       "      <td>-9.216493e-03</td>\n",
       "      <td>0.000007</td>\n",
       "      <td>0.110594</td>\n",
       "    </tr>\n",
       "    <tr>\n",
       "      <th>2015-01-06</th>\n",
       "      <th>AEONTS</th>\n",
       "      <td>33.333215</td>\n",
       "      <td>0.023445</td>\n",
       "      <td>0.032933</td>\n",
       "      <td>-0.182336</td>\n",
       "      <td>0.438499</td>\n",
       "      <td>0.568266</td>\n",
       "      <td>-9.259356e-03</td>\n",
       "      <td>0.000014</td>\n",
       "      <td>0.166328</td>\n",
       "    </tr>\n",
       "    <tr>\n",
       "      <th>2015-01-07</th>\n",
       "      <th>AEONTS</th>\n",
       "      <td>24.999799</td>\n",
       "      <td>0.000000</td>\n",
       "      <td>0.032933</td>\n",
       "      <td>-0.243076</td>\n",
       "      <td>0.302184</td>\n",
       "      <td>-0.364706</td>\n",
       "      <td>4.608375e-03</td>\n",
       "      <td>0.000015</td>\n",
       "      <td>0.224731</td>\n",
       "    </tr>\n",
       "    <tr>\n",
       "      <th>2015-01-08</th>\n",
       "      <th>AEONTS</th>\n",
       "      <td>33.333093</td>\n",
       "      <td>0.156861</td>\n",
       "      <td>0.060102</td>\n",
       "      <td>-0.224660</td>\n",
       "      <td>0.196815</td>\n",
       "      <td>-0.183333</td>\n",
       "      <td>-1.043537e-07</td>\n",
       "      <td>0.000045</td>\n",
       "      <td>0.331305</td>\n",
       "    </tr>\n",
       "    <tr>\n",
       "      <th>2015-01-09</th>\n",
       "      <th>AEONTS</th>\n",
       "      <td>33.333093</td>\n",
       "      <td>0.156861</td>\n",
       "      <td>0.104574</td>\n",
       "      <td>-0.207671</td>\n",
       "      <td>0.115918</td>\n",
       "      <td>1.607710</td>\n",
       "      <td>-9.090909e-03</td>\n",
       "      <td>0.000014</td>\n",
       "      <td>0.346129</td>\n",
       "    </tr>\n",
       "  </tbody>\n",
       "</table>\n",
       "</div>"
      ],
      "text/plain": [
       "                         rsi  stochastic_rsi_k  stochastic_rsi_d      macd  \\\n",
       "date       ticker                                                            \n",
       "2015-01-05 AEONTS  35.714143          0.075354          0.025118 -0.061802   \n",
       "2015-01-06 AEONTS  33.333215          0.023445          0.032933 -0.182336   \n",
       "2015-01-07 AEONTS  24.999799          0.000000          0.032933 -0.243076   \n",
       "2015-01-08 AEONTS  33.333093          0.156861          0.060102 -0.224660   \n",
       "2015-01-09 AEONTS  33.333093          0.156861          0.104574 -0.207671   \n",
       "\n",
       "                   macd_signal  vol_change_pct  overnight_return  cv_ratio  \\\n",
       "date       ticker                                                            \n",
       "2015-01-05 AEONTS     0.593707        1.618357     -9.216493e-03  0.000007   \n",
       "2015-01-06 AEONTS     0.438499        0.568266     -9.259356e-03  0.000014   \n",
       "2015-01-07 AEONTS     0.302184       -0.364706      4.608375e-03  0.000015   \n",
       "2015-01-08 AEONTS     0.196815       -0.183333     -1.043537e-07  0.000045   \n",
       "2015-01-09 AEONTS     0.115918        1.607710     -9.090909e-03  0.000014   \n",
       "\n",
       "                   bollinger_ratio  \n",
       "date       ticker                   \n",
       "2015-01-05 AEONTS         0.110594  \n",
       "2015-01-06 AEONTS         0.166328  \n",
       "2015-01-07 AEONTS         0.224731  \n",
       "2015-01-08 AEONTS         0.331305  \n",
       "2015-01-09 AEONTS         0.346129  "
      ]
     },
     "execution_count": 52,
     "metadata": {},
     "output_type": "execute_result"
    }
   ],
   "source": [
    "ti_df.head()"
   ]
  },
  {
   "attachments": {},
   "cell_type": "markdown",
   "metadata": {},
   "source": [
    "<h3>Daily Return</h3>"
   ]
  },
  {
   "cell_type": "code",
   "execution_count": 53,
   "metadata": {},
   "outputs": [],
   "source": [
    "daily_return_df = close_df.pivot(columns = 'ticker', values = 'close').pct_change().shift(1).mul(100)\n",
    "\n",
    "# * filter date\n",
    "daily_return_df = daily_return_df[daily_return_df.index.date >= START_DATE]\n",
    "\n",
    "# * melt processed dataframe\n",
    "daily_return_df = pd.melt(daily_return_df.reset_index(), id_vars='date', value_name='return', var_name='ticker')\n",
    "daily_return_df.set_index(['date', 'ticker'], inplace=True)"
   ]
  },
  {
   "cell_type": "code",
   "execution_count": 71,
   "metadata": {},
   "outputs": [],
   "source": [
    "# TODO: combine x and y\n",
    "df = ti_df.merge(daily_return_df, left_index=True, right_index=True)\n",
    "\n",
    "# * map sector\n",
    "sector_inversed = {v:k for k in sectors for v in sectors[k]}\n",
    "df['sector'] = df.index.get_level_values(1).map(sector_inversed)"
   ]
  },
  {
   "cell_type": "code",
   "execution_count": 72,
   "metadata": {},
   "outputs": [],
   "source": [
    "# df.head()"
   ]
  },
  {
   "attachments": {},
   "cell_type": "markdown",
   "metadata": {},
   "source": [
    "<h2>One-Hot Encode Sector</h2>"
   ]
  },
  {
   "cell_type": "code",
   "execution_count": 73,
   "metadata": {},
   "outputs": [],
   "source": [
    "from lightgbm import LGBMRegressor\n",
    "from sklearn.preprocessing import OneHotEncoder\n",
    "from sklearn.metrics import mean_squared_error\n",
    "from sklearn.model_selection import GridSearchCV, TimeSeriesSplit\n",
    "# from autosklearn.regression import AutoSKlearnRegressor"
   ]
  },
  {
   "cell_type": "code",
   "execution_count": 74,
   "metadata": {},
   "outputs": [],
   "source": [
    "ohe = OneHotEncoder()\n",
    "ohe.fit(df[['sector']])\n",
    "sector_dummy = pd.DataFrame(ohe.transform(df[['sector']]).toarray(), columns = ohe.get_feature_names_out(), index = df.index)"
   ]
  },
  {
   "cell_type": "code",
   "execution_count": 75,
   "metadata": {},
   "outputs": [],
   "source": [
    "df = df.merge(sector_dummy, left_index=True, right_index=True).drop('sector', axis = 1)\n",
    "\n",
    "# * create month and day of week factors\n",
    "df['month'] = df.index.get_level_values(0).month\n",
    "df['day_of_week'] = df.index.get_level_values(0).dayofweek"
   ]
  },
  {
   "cell_type": "code",
   "execution_count": 59,
   "metadata": {},
   "outputs": [],
   "source": [
    "# # TODO: split data\n",
    "\n",
    "TRAIN_SIZE = 0.8\n",
    "dates = sorted(df.index.get_level_values(0))\n",
    "n_data = len(dates)\n",
    "train_split = int(TRAIN_SIZE * n_data)\n",
    "train_dates = dates[:train_split]\n",
    "test_dates = dates[train_split:]\n",
    "\n",
    "x_train = df[df.index.isin(train_dates, level=0)]\n",
    "x_test = df[df.index.isin(test_dates, level=0)]\n",
    "\n",
    "y_train = x_train.pop('return')\n",
    "y_test = x_test.pop('return')"
   ]
  },
  {
   "cell_type": "code",
   "execution_count": 76,
   "metadata": {},
   "outputs": [
    {
     "data": {
      "text/html": [
       "<style>#sk-container-id-4 {color: black;background-color: white;}#sk-container-id-4 pre{padding: 0;}#sk-container-id-4 div.sk-toggleable {background-color: white;}#sk-container-id-4 label.sk-toggleable__label {cursor: pointer;display: block;width: 100%;margin-bottom: 0;padding: 0.3em;box-sizing: border-box;text-align: center;}#sk-container-id-4 label.sk-toggleable__label-arrow:before {content: \"▸\";float: left;margin-right: 0.25em;color: #696969;}#sk-container-id-4 label.sk-toggleable__label-arrow:hover:before {color: black;}#sk-container-id-4 div.sk-estimator:hover label.sk-toggleable__label-arrow:before {color: black;}#sk-container-id-4 div.sk-toggleable__content {max-height: 0;max-width: 0;overflow: hidden;text-align: left;background-color: #f0f8ff;}#sk-container-id-4 div.sk-toggleable__content pre {margin: 0.2em;color: black;border-radius: 0.25em;background-color: #f0f8ff;}#sk-container-id-4 input.sk-toggleable__control:checked~div.sk-toggleable__content {max-height: 200px;max-width: 100%;overflow: auto;}#sk-container-id-4 input.sk-toggleable__control:checked~label.sk-toggleable__label-arrow:before {content: \"▾\";}#sk-container-id-4 div.sk-estimator input.sk-toggleable__control:checked~label.sk-toggleable__label {background-color: #d4ebff;}#sk-container-id-4 div.sk-label input.sk-toggleable__control:checked~label.sk-toggleable__label {background-color: #d4ebff;}#sk-container-id-4 input.sk-hidden--visually {border: 0;clip: rect(1px 1px 1px 1px);clip: rect(1px, 1px, 1px, 1px);height: 1px;margin: -1px;overflow: hidden;padding: 0;position: absolute;width: 1px;}#sk-container-id-4 div.sk-estimator {font-family: monospace;background-color: #f0f8ff;border: 1px dotted black;border-radius: 0.25em;box-sizing: border-box;margin-bottom: 0.5em;}#sk-container-id-4 div.sk-estimator:hover {background-color: #d4ebff;}#sk-container-id-4 div.sk-parallel-item::after {content: \"\";width: 100%;border-bottom: 1px solid gray;flex-grow: 1;}#sk-container-id-4 div.sk-label:hover label.sk-toggleable__label {background-color: #d4ebff;}#sk-container-id-4 div.sk-serial::before {content: \"\";position: absolute;border-left: 1px solid gray;box-sizing: border-box;top: 0;bottom: 0;left: 50%;z-index: 0;}#sk-container-id-4 div.sk-serial {display: flex;flex-direction: column;align-items: center;background-color: white;padding-right: 0.2em;padding-left: 0.2em;position: relative;}#sk-container-id-4 div.sk-item {position: relative;z-index: 1;}#sk-container-id-4 div.sk-parallel {display: flex;align-items: stretch;justify-content: center;background-color: white;position: relative;}#sk-container-id-4 div.sk-item::before, #sk-container-id-4 div.sk-parallel-item::before {content: \"\";position: absolute;border-left: 1px solid gray;box-sizing: border-box;top: 0;bottom: 0;left: 50%;z-index: -1;}#sk-container-id-4 div.sk-parallel-item {display: flex;flex-direction: column;z-index: 1;position: relative;background-color: white;}#sk-container-id-4 div.sk-parallel-item:first-child::after {align-self: flex-end;width: 50%;}#sk-container-id-4 div.sk-parallel-item:last-child::after {align-self: flex-start;width: 50%;}#sk-container-id-4 div.sk-parallel-item:only-child::after {width: 0;}#sk-container-id-4 div.sk-dashed-wrapped {border: 1px dashed gray;margin: 0 0.4em 0.5em 0.4em;box-sizing: border-box;padding-bottom: 0.4em;background-color: white;}#sk-container-id-4 div.sk-label label {font-family: monospace;font-weight: bold;display: inline-block;line-height: 1.2em;}#sk-container-id-4 div.sk-label-container {text-align: center;}#sk-container-id-4 div.sk-container {/* jupyter's `normalize.less` sets `[hidden] { display: none; }` but bootstrap.min.css set `[hidden] { display: none !important; }` so we also need the `!important` here to be able to override the default hidden behavior on the sphinx rendered scikit-learn.org. See: https://github.com/scikit-learn/scikit-learn/issues/21755 */display: inline-block !important;position: relative;}#sk-container-id-4 div.sk-text-repr-fallback {display: none;}</style><div id=\"sk-container-id-4\" class=\"sk-top-container\"><div class=\"sk-text-repr-fallback\"><pre>GridSearchCV(cv=TimeSeriesSplit(gap=0, max_train_size=None, n_splits=3, test_size=None),\n",
       "             estimator=LGBMRegressor(),\n",
       "             param_grid={&#x27;learning_rate&#x27;: [0.01, 0.1, 1],\n",
       "                         &#x27;max_depth&#x27;: [3, 5, 7],\n",
       "                         &#x27;n_estimators&#x27;: [50, 100, 200]})</pre><b>In a Jupyter environment, please rerun this cell to show the HTML representation or trust the notebook. <br />On GitHub, the HTML representation is unable to render, please try loading this page with nbviewer.org.</b></div><div class=\"sk-container\" hidden><div class=\"sk-item sk-dashed-wrapped\"><div class=\"sk-label-container\"><div class=\"sk-label sk-toggleable\"><input class=\"sk-toggleable__control sk-hidden--visually\" id=\"sk-estimator-id-10\" type=\"checkbox\" ><label for=\"sk-estimator-id-10\" class=\"sk-toggleable__label sk-toggleable__label-arrow\">GridSearchCV</label><div class=\"sk-toggleable__content\"><pre>GridSearchCV(cv=TimeSeriesSplit(gap=0, max_train_size=None, n_splits=3, test_size=None),\n",
       "             estimator=LGBMRegressor(),\n",
       "             param_grid={&#x27;learning_rate&#x27;: [0.01, 0.1, 1],\n",
       "                         &#x27;max_depth&#x27;: [3, 5, 7],\n",
       "                         &#x27;n_estimators&#x27;: [50, 100, 200]})</pre></div></div></div><div class=\"sk-parallel\"><div class=\"sk-parallel-item\"><div class=\"sk-item\"><div class=\"sk-label-container\"><div class=\"sk-label sk-toggleable\"><input class=\"sk-toggleable__control sk-hidden--visually\" id=\"sk-estimator-id-11\" type=\"checkbox\" ><label for=\"sk-estimator-id-11\" class=\"sk-toggleable__label sk-toggleable__label-arrow\">estimator: LGBMRegressor</label><div class=\"sk-toggleable__content\"><pre>LGBMRegressor()</pre></div></div></div><div class=\"sk-serial\"><div class=\"sk-item\"><div class=\"sk-estimator sk-toggleable\"><input class=\"sk-toggleable__control sk-hidden--visually\" id=\"sk-estimator-id-12\" type=\"checkbox\" ><label for=\"sk-estimator-id-12\" class=\"sk-toggleable__label sk-toggleable__label-arrow\">LGBMRegressor</label><div class=\"sk-toggleable__content\"><pre>LGBMRegressor()</pre></div></div></div></div></div></div></div></div></div></div>"
      ],
      "text/plain": [
       "GridSearchCV(cv=TimeSeriesSplit(gap=0, max_train_size=None, n_splits=3, test_size=None),\n",
       "             estimator=LGBMRegressor(),\n",
       "             param_grid={'learning_rate': [0.01, 0.1, 1],\n",
       "                         'max_depth': [3, 5, 7],\n",
       "                         'n_estimators': [50, 100, 200]})"
      ]
     },
     "execution_count": 76,
     "metadata": {},
     "output_type": "execute_result"
    }
   ],
   "source": [
    "# Create a LightGBM regressor object\n",
    "lgb_model = LGBMRegressor()\n",
    "\n",
    "# Specify the parameter grid to search over\n",
    "param_grid = {'n_estimators': [50, 100, 200],\n",
    "              'max_depth': [3, 5, 7],\n",
    "              'learning_rate': [0.01, 0.1, 1]}\n",
    "\n",
    "# Create a time-series aware cross-validator\n",
    "cv = TimeSeriesSplit(n_splits=3)\n",
    "\n",
    "# Create a GridSearchCV object with the specified parameters\n",
    "grid_search = GridSearchCV(estimator=lgb_model, param_grid=param_grid, cv=cv)\n",
    "\n",
    "# Fit the grid search object to the data\n",
    "grid_search.fit(x_train, y_train)\n"
   ]
  },
  {
   "cell_type": "code",
   "execution_count": 79,
   "metadata": {},
   "outputs": [
    {
     "data": {
      "text/html": [
       "<style>#sk-container-id-5 {color: black;background-color: white;}#sk-container-id-5 pre{padding: 0;}#sk-container-id-5 div.sk-toggleable {background-color: white;}#sk-container-id-5 label.sk-toggleable__label {cursor: pointer;display: block;width: 100%;margin-bottom: 0;padding: 0.3em;box-sizing: border-box;text-align: center;}#sk-container-id-5 label.sk-toggleable__label-arrow:before {content: \"▸\";float: left;margin-right: 0.25em;color: #696969;}#sk-container-id-5 label.sk-toggleable__label-arrow:hover:before {color: black;}#sk-container-id-5 div.sk-estimator:hover label.sk-toggleable__label-arrow:before {color: black;}#sk-container-id-5 div.sk-toggleable__content {max-height: 0;max-width: 0;overflow: hidden;text-align: left;background-color: #f0f8ff;}#sk-container-id-5 div.sk-toggleable__content pre {margin: 0.2em;color: black;border-radius: 0.25em;background-color: #f0f8ff;}#sk-container-id-5 input.sk-toggleable__control:checked~div.sk-toggleable__content {max-height: 200px;max-width: 100%;overflow: auto;}#sk-container-id-5 input.sk-toggleable__control:checked~label.sk-toggleable__label-arrow:before {content: \"▾\";}#sk-container-id-5 div.sk-estimator input.sk-toggleable__control:checked~label.sk-toggleable__label {background-color: #d4ebff;}#sk-container-id-5 div.sk-label input.sk-toggleable__control:checked~label.sk-toggleable__label {background-color: #d4ebff;}#sk-container-id-5 input.sk-hidden--visually {border: 0;clip: rect(1px 1px 1px 1px);clip: rect(1px, 1px, 1px, 1px);height: 1px;margin: -1px;overflow: hidden;padding: 0;position: absolute;width: 1px;}#sk-container-id-5 div.sk-estimator {font-family: monospace;background-color: #f0f8ff;border: 1px dotted black;border-radius: 0.25em;box-sizing: border-box;margin-bottom: 0.5em;}#sk-container-id-5 div.sk-estimator:hover {background-color: #d4ebff;}#sk-container-id-5 div.sk-parallel-item::after {content: \"\";width: 100%;border-bottom: 1px solid gray;flex-grow: 1;}#sk-container-id-5 div.sk-label:hover label.sk-toggleable__label {background-color: #d4ebff;}#sk-container-id-5 div.sk-serial::before {content: \"\";position: absolute;border-left: 1px solid gray;box-sizing: border-box;top: 0;bottom: 0;left: 50%;z-index: 0;}#sk-container-id-5 div.sk-serial {display: flex;flex-direction: column;align-items: center;background-color: white;padding-right: 0.2em;padding-left: 0.2em;position: relative;}#sk-container-id-5 div.sk-item {position: relative;z-index: 1;}#sk-container-id-5 div.sk-parallel {display: flex;align-items: stretch;justify-content: center;background-color: white;position: relative;}#sk-container-id-5 div.sk-item::before, #sk-container-id-5 div.sk-parallel-item::before {content: \"\";position: absolute;border-left: 1px solid gray;box-sizing: border-box;top: 0;bottom: 0;left: 50%;z-index: -1;}#sk-container-id-5 div.sk-parallel-item {display: flex;flex-direction: column;z-index: 1;position: relative;background-color: white;}#sk-container-id-5 div.sk-parallel-item:first-child::after {align-self: flex-end;width: 50%;}#sk-container-id-5 div.sk-parallel-item:last-child::after {align-self: flex-start;width: 50%;}#sk-container-id-5 div.sk-parallel-item:only-child::after {width: 0;}#sk-container-id-5 div.sk-dashed-wrapped {border: 1px dashed gray;margin: 0 0.4em 0.5em 0.4em;box-sizing: border-box;padding-bottom: 0.4em;background-color: white;}#sk-container-id-5 div.sk-label label {font-family: monospace;font-weight: bold;display: inline-block;line-height: 1.2em;}#sk-container-id-5 div.sk-label-container {text-align: center;}#sk-container-id-5 div.sk-container {/* jupyter's `normalize.less` sets `[hidden] { display: none; }` but bootstrap.min.css set `[hidden] { display: none !important; }` so we also need the `!important` here to be able to override the default hidden behavior on the sphinx rendered scikit-learn.org. See: https://github.com/scikit-learn/scikit-learn/issues/21755 */display: inline-block !important;position: relative;}#sk-container-id-5 div.sk-text-repr-fallback {display: none;}</style><div id=\"sk-container-id-5\" class=\"sk-top-container\"><div class=\"sk-text-repr-fallback\"><pre>LGBMRegressor(max_depth=7, n_estimators=200)</pre><b>In a Jupyter environment, please rerun this cell to show the HTML representation or trust the notebook. <br />On GitHub, the HTML representation is unable to render, please try loading this page with nbviewer.org.</b></div><div class=\"sk-container\" hidden><div class=\"sk-item\"><div class=\"sk-estimator sk-toggleable\"><input class=\"sk-toggleable__control sk-hidden--visually\" id=\"sk-estimator-id-13\" type=\"checkbox\" checked><label for=\"sk-estimator-id-13\" class=\"sk-toggleable__label sk-toggleable__label-arrow\">LGBMRegressor</label><div class=\"sk-toggleable__content\"><pre>LGBMRegressor(max_depth=7, n_estimators=200)</pre></div></div></div></div></div>"
      ],
      "text/plain": [
       "LGBMRegressor(max_depth=7, n_estimators=200)"
      ]
     },
     "execution_count": 79,
     "metadata": {},
     "output_type": "execute_result"
    }
   ],
   "source": [
    "# # TODO: use the best param to train the entire training data\n",
    "lgb_model = LGBMRegressor(**grid_search.best_params_)\n",
    "lgb_model.fit(x_train, y_train)\n"
   ]
  },
  {
   "cell_type": "code",
   "execution_count": 81,
   "metadata": {},
   "outputs": [
    {
     "name": "stdout",
     "output_type": "stream",
     "text": [
      "MSE on training data: 2.7003\n",
      "MSE on testing data: 2.7023\n"
     ]
    }
   ],
   "source": [
    "# # TODO: get training and testing errors\n",
    "y_train_pred = lgb_model.predict(x_train)\n",
    "y_pred = lgb_model.predict(x_test)\n",
    "mse_train = mean_squared_error(y_train_pred, y_train)\n",
    "mse_test = mean_squared_error(y_pred, y_test)\n",
    "\n",
    "print(f'MSE on training data: {mse_train:.4f}')\n",
    "print(f'MSE on testing data: {mse_test:.4f}')"
   ]
  },
  {
   "cell_type": "code",
   "execution_count": 82,
   "metadata": {},
   "outputs": [
    {
     "data": {
      "text/plain": [
       "overnight_return                 930\n",
       "bollinger_ratio                  810\n",
       "vol_change_pct                   774\n",
       "cv_ratio                         578\n",
       "stochastic_rsi_d                 546\n",
       "macd                             488\n",
       "stochastic_rsi_k                 444\n",
       "rsi                              367\n",
       "macd_signal                      347\n",
       "month                            255\n",
       "day_of_week                      238\n",
       "sector_consumer_discretionary     64\n",
       "sector_consumer_finance           37\n",
       "sector_hotel                      28\n",
       "sector_banking                    25\n",
       "sector_utilities                  16\n",
       "sector_material                   12\n",
       "sector_real_estate                10\n",
       "sector_petrochemistry              8\n",
       "sector_consumer_staple             7\n",
       "sector_industrial                  6\n",
       "sector_infrastructure              4\n",
       "sector_insurance                   4\n",
       "sector_hospital                    2\n",
       "dtype: int32"
      ]
     },
     "execution_count": 82,
     "metadata": {},
     "output_type": "execute_result"
    }
   ],
   "source": [
    "# # * feature importance\n",
    "importances = pd.Series(lgb_model.feature_importances_, index = lgb_model.feature_name_) \\\n",
    "                .sort_values(ascending=False)\n",
    "importances"
   ]
  },
  {
   "cell_type": "code",
   "execution_count": null,
   "metadata": {},
   "outputs": [],
   "source": []
  }
 ],
 "metadata": {
  "kernelspec": {
   "display_name": "Python 3",
   "language": "python",
   "name": "python3"
  },
  "language_info": {
   "codemirror_mode": {
    "name": "ipython",
    "version": 3
   },
   "file_extension": ".py",
   "mimetype": "text/x-python",
   "name": "python",
   "nbconvert_exporter": "python",
   "pygments_lexer": "ipython3",
   "version": "3.11.1"
  },
  "orig_nbformat": 4
 },
 "nbformat": 4,
 "nbformat_minor": 2
}
